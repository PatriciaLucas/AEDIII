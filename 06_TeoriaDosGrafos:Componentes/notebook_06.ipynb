{
  "nbformat": 4,
  "nbformat_minor": 0,
  "metadata": {
    "colab": {
      "name": "notebook_06.ipynb",
      "provenance": [],
      "authorship_tag": "ABX9TyNoly+CXyEqgjqeYAXu7SBG",
      "include_colab_link": true
    },
    "kernelspec": {
      "name": "python3",
      "display_name": "Python 3"
    }
  },
  "cells": [
    {
      "cell_type": "markdown",
      "metadata": {
        "id": "view-in-github",
        "colab_type": "text"
      },
      "source": [
        "<a href=\"https://colab.research.google.com/github/PatriciaLucas/AEDIII/blob/main/06_TeoriaDosGrafos%3AComponentes/notebook_06.ipynb\" target=\"_parent\"><img src=\"https://colab.research.google.com/assets/colab-badge.svg\" alt=\"Open In Colab\"/></a>"
      ]
    },
    {
      "cell_type": "markdown",
      "metadata": {
        "id": "vqZRupdXdAGY"
      },
      "source": [
        "```\n",
        "Instituto Federal do Norte de Minas Gerais - Campus Salinas\n",
        "Bacharelado em Sistemas de Informação\n",
        "Disciplina: AEDIII\n",
        "Professora: Patrícia Lucas\n",
        "```"
      ]
    },
    {
      "cell_type": "markdown",
      "metadata": {
        "id": "qMYeCmr-pd-s"
      },
      "source": [
        "#Componentes fortemente conectados\n",
        "\n",
        "Um componente fortemente conectado (CFC) de um grafo dirigido $G= (V, E)$ é um conjunto máximo de vértices $C \\subseteq V$ tal que, para todo par de vértices $u$ e $v$ em $C$, temos $u \\to v$ e $v \\to u$; isto é, $u$ pode ser alcançado a partir do vértice $v$ e vice-versa.\n",
        "\n",
        "Exemplo: no grafo G abaixo existem dois componentes fortemente conectados, a verde e a rosa. A CFC verde é composta apenas do vértice B, pois B não alcança nenhuma vértice. Já a CFC rosa é composta pelos vétices A, C, D e E, pois é possível ir de $A \\to D$ e $D \\to A$, de $A \\to C$ e $C \\to A$, de $A \\to E$ e $E \\to A$.\n",
        "\n",
        "![](https://github.com/PatriciaLucas/AEDIII/blob/main/Figuras/notebook06_01.jpg?raw=true)\n",
        "\n",
        "**Algoritmo de Kosaraju**\n",
        "\n",
        "O algoritmo de Kosaraju é usado para encontrar as CFCs em um grafo. Ele é baseado no algoritmo de busca em profundidade implementado duas vezes.\n",
        "\n",
        "O Kosaraju possui três etapas. Para entendê-las, vamos usar o grafo apresentado a cima implementado como uma lista de adjacências:\n",
        "\n"
      ]
    },
    {
      "cell_type": "code",
      "metadata": {
        "id": "s_IxgaBidwVe",
        "colab": {
          "base_uri": "https://localhost:8080/",
          "height": 34
        },
        "outputId": "7af45b60-47b6-4ac5-95f7-6e8c781c25ef"
      },
      "source": [
        "G = {\n",
        "  'A' : ['B','D','E'],\n",
        "  'B' : [],\n",
        "  'C' : ['A'],\n",
        "  'D' : ['C'],\n",
        "  'E' : ['A','B']\n",
        "}\n",
        "\n",
        "G"
      ],
      "execution_count": null,
      "outputs": [
        {
          "output_type": "execute_result",
          "data": {
            "text/plain": [
              "{'A': ['B', 'D', 'E'], 'B': [], 'C': ['A'], 'D': ['C'], 'E': ['A', 'B']}"
            ]
          },
          "metadata": {
            "tags": []
          },
          "execution_count": 1
        }
      ]
    },
    {
      "cell_type": "markdown",
      "metadata": {
        "id": "sYA5yuIM-krX"
      },
      "source": [
        "**1ª Etapa:**\n",
        "\n",
        "Nessa etapa, vamos usar o algoritmo DFS para criar uma pilha. Um vértice vai para a pilha se: \n",
        "- levar a um vértice já visitado; ou\n",
        "- não levar a outro vértice.\n",
        "\n",
        "Vamos começar pelo vértice 'A'. A partir de 'A' podemos visitar 'B'. A partir de 'B' não podemos visitar nenhum vértice, então 'B' é colocado na pilha.\n",
        "\n",
        "![](https://github.com/PatriciaLucas/AEDIII/blob/main/Figuras/notebook06_02.jpg?raw=true)\n",
        "\n",
        "Retornando para 'A', podemos visitar 'D'. A partir de 'D', podemos acessar 'C' e a partir de 'C', podemos acessar 'A'. Mas como 'A' já foi visitado, então o vértice 'C' deve ir para a pilha.\n",
        "\n",
        "![](https://github.com/PatriciaLucas/AEDIII/blob/main/Figuras/notebook06_03.jpg?raw=true)\n",
        "\n",
        "Retornando para 'D', não temos como acessar outro vértice, então 'D' deve ir para a pilha.\n",
        "\n",
        "![](https://github.com/PatriciaLucas/AEDIII/blob/main/Figuras/notebook06_04.jpg?raw=true)\n",
        "\n",
        "Retornando para 'A', agora vamos para 'E'. A partir de 'E', podemos acessar 'B'. Mas como 'B' já foi visitado, então o vértice 'E' deve ir para a pilha.\n",
        "\n",
        "![](https://github.com/PatriciaLucas/AEDIII/blob/main/Figuras/notebook06_05.jpg?raw=true)\n",
        "\n",
        "Retornando para 'A', não temos como acessar outro vértice, então 'A' deve ir para a pilha. E acabou a 1ª etapa!\n",
        "\n",
        "![](https://github.com/PatriciaLucas/AEDIII/blob/main/Figuras/notebook06_06.jpg?raw=true)\n",
        "\n",
        "Código em python:\n"
      ]
    },
    {
      "cell_type": "code",
      "metadata": {
        "id": "_2mwgYpxzHDh"
      },
      "source": [
        "def preencher_pilha(visitas, pilha, G, vertice):\n",
        "    if vertice not in visitas:\n",
        "        visitas.append(vertice)\n",
        "        for i in G[vertice]:\n",
        "            preencher_pilha(visitas, pilha, G, i)\n",
        "        pilha.append(vertice)\n",
        "    return visitas, pilha"
      ],
      "execution_count": null,
      "outputs": []
    },
    {
      "cell_type": "markdown",
      "metadata": {
        "id": "jpk-WjWsJBPw"
      },
      "source": [
        "**2ª Etapa**\n",
        "\n",
        "Nessa etapa, vamos transpor o grafo G. Para isso, inverta a direção de todas as arestas do grafo.\n",
        "\n",
        "![](https://github.com/PatriciaLucas/AEDIII/blob/main/Figuras/notebook06_07.jpg?raw=true)\n",
        "\n",
        "Código:"
      ]
    },
    {
      "cell_type": "code",
      "metadata": {
        "id": "hI-5ob9SQAZK"
      },
      "source": [
        "def transpor(G):\n",
        "  list1 = G.keys()\n",
        "  list2 = [[],[],[],[],[]]\n",
        "  G_t = dict( zip( list1, list2))\n",
        "  for i in G:\n",
        "    for j in G[i]:\n",
        "      G_t[j].append(i)\n",
        "  return G_t"
      ],
      "execution_count": null,
      "outputs": []
    },
    {
      "cell_type": "markdown",
      "metadata": {
        "id": "pFWBJOWFJrpD"
      },
      "source": [
        "**3ª Etapa**\n",
        "\n",
        "Nessa etapa, vamos aplicar o DFS no grafo transposto $G^t$ usando os vértices da pilha.\n",
        "\n",
        "Como é uma pilha, iniciaremos pelo último vértice inserido 'A'. De 'A' podemos acessar 'C', depois 'D' e 'A' novamente. Como 'A' já foi visitado retornamos.\n",
        "\n",
        "![](https://github.com/PatriciaLucas/AEDIII/blob/main/Figuras/notebook06_08.jpg?raw=true)\n",
        "\n",
        "De volta em 'A', podemos acessar 'E'. De 'E' podemos acessar 'A', mas 'A' já foi visitado e não é possível visitar mais vértices.\n",
        "\n",
        "![](https://github.com/PatriciaLucas/AEDIII/blob/main/Figuras/notebook06_09.jpg?raw=true)\n",
        "\n",
        "Quando isso ocorre, criamos uma CFC com os vértices que estão na lista de visitas. Agora vamos continuar percorrendo a pilha. Como 'E', 'D' e 'C' já foram visitados, não fazemos nada com eles e vamos para o 'B'.\n",
        "\n",
        "![](https://github.com/PatriciaLucas/AEDIII/blob/main/Figuras/notebook06_10.jpg?raw=true)\n",
        "\n",
        "Do vértice 'B' podemos visitar 'A' e 'E', mas ambos já foram visitados. Então 'B' deve ser uma nova CFC.\n",
        "\n",
        "![](https://github.com/PatriciaLucas/AEDIII/blob/main/Figuras/notebook06_11.jpg?raw=true)\n",
        "\n",
        "Código:"
      ]
    },
    {
      "cell_type": "code",
      "metadata": {
        "id": "qqZY9M9d3AzM"
      },
      "source": [
        "def DFS(visitas, G, vertice):\n",
        "    if vertice not in visitas:\n",
        "        visitas.append(vertice)\n",
        "        print(vertice, end='')\n",
        "        for i in G[vertice]:\n",
        "            DFS(visitas, G, i)\n",
        "    return visitas"
      ],
      "execution_count": null,
      "outputs": []
    },
    {
      "cell_type": "markdown",
      "metadata": {
        "id": "qSAzZeP-Dejk"
      },
      "source": [
        "Código com a função CFC que retornará as CFCs:"
      ]
    },
    {
      "cell_type": "code",
      "metadata": {
        "id": "XOZ2crn03vA9"
      },
      "source": [
        "def CFC(G):\n",
        "  pilha = []\n",
        "  visitas = []\n",
        "\n",
        "  for i in G:\n",
        "    if i not in visitas:\n",
        "      visitas, pilha = preencher_pilha(visitas, pilha, G, i)\n",
        "\n",
        "  G_t = transpor(G)\n",
        "  visitas = []\n",
        "\n",
        "  while pilha:\n",
        "    i = pilha.pop()\n",
        "    if i not in visitas:\n",
        "      DFS(visitas, G_t, i)\n",
        "      print(\"\")\n",
        "  pass"
      ],
      "execution_count": null,
      "outputs": []
    },
    {
      "cell_type": "markdown",
      "metadata": {
        "id": "1imc1WRtEnBJ"
      },
      "source": [
        "Para finalizar, vamos chamar a função CFC:"
      ]
    },
    {
      "cell_type": "code",
      "metadata": {
        "id": "mPGFeV4d6fKJ",
        "colab": {
          "base_uri": "https://localhost:8080/",
          "height": 52
        },
        "outputId": "bfc85ad4-158b-49ce-8de4-66a787cf2308"
      },
      "source": [
        "CFC(G)"
      ],
      "execution_count": null,
      "outputs": [
        {
          "output_type": "stream",
          "text": [
            "ACDE\n",
            "B\n"
          ],
          "name": "stdout"
        }
      ]
    }
  ]
}