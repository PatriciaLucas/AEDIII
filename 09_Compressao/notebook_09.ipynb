{
  "nbformat": 4,
  "nbformat_minor": 0,
  "metadata": {
    "colab": {
      "name": "notebook_09.ipynb",
      "provenance": [],
      "collapsed_sections": [],
      "authorship_tag": "ABX9TyO1RhgGXvu60BuazLebk9qu",
      "include_colab_link": true
    },
    "kernelspec": {
      "name": "python3",
      "display_name": "Python 3"
    }
  },
  "cells": [
    {
      "cell_type": "markdown",
      "metadata": {
        "id": "view-in-github",
        "colab_type": "text"
      },
      "source": [
        "<a href=\"https://colab.research.google.com/github/PatriciaLucas/AEDIII/blob/main/09_Compressao/notebook_09.ipynb\" target=\"_parent\"><img src=\"https://colab.research.google.com/assets/colab-badge.svg\" alt=\"Open In Colab\"/></a>"
      ]
    },
    {
      "cell_type": "markdown",
      "metadata": {
        "id": "-nFpYrGk2v1z"
      },
      "source": [
        "```\n",
        "Instituto Federal do Norte de Minas Gerais - Campus Salinas\n",
        "Bacharelado em Sistemas de Informação\n",
        "Disciplina: AEDIII\n",
        "Professora: Patrícia Lucas\n",
        "```\n"
      ]
    },
    {
      "cell_type": "markdown",
      "metadata": {
        "id": "cEHMvuu9aa9z"
      },
      "source": [
        "#Compressão\n",
        "\n",
        "**O problema:**\n",
        "\n",
        "* Representar um arquivo (= file) grande por outro menor.\n",
        "\n",
        "**É possível?** \n",
        "\n",
        "* Sim. Porque em geral os arquivos contêm muita redundância.\n",
        "\n",
        "Exemplo:\n",
        "- arquivo grande:  *abababababababababababab*\n",
        "- arquivo menor:   *12ab*\n",
        "\n",
        "\n",
        "**Por que comprimir?**\n",
        "\n",
        "* Menor espaço de armazenamento.\n",
        "* Menor tempo de transmissão.\n",
        "\n",
        "**Esquema básico de compressão de dados:**\n",
        "\n",
        "Um compressor transforma um fluxo de bits $B$ em um fluxo $C(B)$  e\n",
        "um expansor transforma $C(B)$ de volta em $B$.\n",
        "\n",
        "<img src=\"https://github.com/PatriciaLucas/AEDIII/blob/main/Figuras/notebook09_01.jpg?raw=true\" width=\"700\"/>\n",
        "\n",
        "Diremos que o fluxo de bits $B$ é original e o fluxo $C(B)$ é codificado.  Diremos que o fluxo produzido pelo expansor é decodificado.  Assim, codificar é sinônimo de comprimir e decodificar é sinônimo de expandir.\n",
        "\n",
        "Notação:  $|B|$ é o número de bits de $B$.\n",
        "\n",
        "Taxa de compressão: $\\frac{|C(B)|}{|B|}$. Espera-se que a taxa seja estritamente menor que 1.\n",
        "\n",
        "Desafio: obter a menor taxa de compressão possível.\n",
        "\n",
        "**Tipos de compressão:**\n",
        "\n",
        "*   *Compressão com perdas:* mais comum em imagens e áudio, onde podemos eliminar informação que esteja fora do alcance da percepção do usuário. Ex: pixels de cores muito parecidas podem ser transformados na mesma cor ou áudio fora da zona audível pode ser eliminado.\n",
        "\n",
        "*   *Compressão sem perdas:* comumente usada para arquivos e texto.\n",
        "\n",
        "**Exemplo:** Em código ASCII, o genoma $ATAGATGCATAGCGCATAGCTAGATGTGCTAGC$ tem $264$ bits. Como poderíamos representar o mesmo genoma com uma quantidade de bits menor? Qual a taxa de compressão para a sua solução?\n",
        "\n",
        "\n",
        "\n",
        "\n",
        "\n",
        "\n",
        "\n",
        "\n",
        "\n",
        "\n",
        "\n",
        "\n",
        "\n",
        "\n"
      ]
    },
    {
      "cell_type": "markdown",
      "metadata": {
        "id": "80dF1Ik7aX34"
      },
      "source": [
        "# O algoritmo de Codificação de Huffman\n",
        "\n",
        "A compressão Huffman é um dos algoritmos fundamentais de compressão sem perdas. \n",
        "\n",
        "Seu princípio básico é criar um formato binário onde são atribuídos menos bits para os símbolos mais frequentes, e mais bits para os menos frequentes.\n",
        "\n",
        "Explicação do algoritmo usando o exemplo do genoma:\n",
        "\n",
        "O arquivo original: $ATAGATGCATAGCGCATAGCTAGATGTGCTAGC$\n",
        "\n",
        "###**Fase de compressão**\n",
        "\n",
        "**Passo 1:** Vamos contar a frequência de cada símbolo no arquivo e colocá-los em uma lista ordenada de forma crescente.\n",
        "\n",
        "<img src=\"https://github.com/PatriciaLucas/AEDIII/blob/main/Figuras/notebook09_02.png?raw=true\" width=\"200\"/>\n",
        "\n",
        "**Passo 2 (1ª iteração):** Agora vamos construir a árvore de Huffman. Retire os dois elementos com menor frequência da lista e os agrupe em um elemento pai, deixando o elemento com menor frequência a esquerda. A frequência do elemento pai deve ser a soma da frequência dos elementos filhos.\n",
        "\n",
        "Vamos retirar os elementos $C$ e $T$ e agrupá-los. Após o agrupamento, eles ficarão em 3º lugar da lista, já que o elemento pai tem frequência igual a 14.\n",
        "\n",
        "<img src=\"https://github.com/PatriciaLucas/AEDIII/blob/main/Figuras/notebook09_03.png?raw=true\" width=\"200\"/>\n",
        "\n",
        "**Refaça o Passo 2 até que lista tenha apenas 1 elemento, que será a árvore completa.** \n",
        "\n",
        "**Passo 2 (2ª iteração):**\n",
        "\n",
        "Vamos retirar o próximo elemento com menor frequência, $G$, e inserí-lo na árvore agrupando-o da mesma forma que fizemos anteriormente. \n",
        "\n",
        "<img src=\"https://github.com/PatriciaLucas/AEDIII/blob/main/Figuras/notebook09_041.png?raw=true\" width=\"200\"/>\n",
        "\n",
        "**Passo 2 (3ª iteração):**\n",
        "\n",
        "Vamos retirar o próximo elemento com menor frequência, $A$, e inserí-lo na árvore agrupando-o da mesma forma que fizemos anteriormente. \n",
        "\n",
        "<img src=\"https://github.com/PatriciaLucas/AEDIII/blob/main/Figuras/notebook09_050.png?raw=true\" width=\"200\"/>\n",
        "\n",
        "**Passo 3:** Com a árvore completa, podemos montar a tabela que relaciona o símbolo a sua nova sequência binária. Para isso, percorra a árvore em profundidade, adicionando o bit $0$ quando for para a esquerda ou bit $1$ quando for para direita. Ao encontrar uma folha, adicione esse elemento e o código encontrado na tabela.\n",
        "\n",
        "<img src=\"https://github.com/PatriciaLucas/AEDIII/blob/main/Figuras/notebook09_061.png?raw=true\" width=\"400\"/>\n",
        "\n",
        "**Passo 4:** Agora vamos codificar o arquivo original. Para isso, basta percorrer o arquivo e substituir cada letra por sua sequencia binária correspondente.\n",
        "\n",
        "Original: $ATAGATGCATAGCGCATAGCTAGATGTGCTAGC$\n",
        "\n",
        "Codificado: $1001101100101000100110100001000100110100000110110010100101000001101000$\n",
        "\n",
        "**OBS: conseguimos reduzir o arquivo para 66 bits, ou seja, obtivemos uma taxa de compressão de 0,25!\n",
        "\n",
        "###**Fase de expansão**\n",
        "\n",
        "**Repetir o Passo 1 até que não haja mais bits.**\n",
        "\n",
        "**Passo 1:** Iniciando na raíz, percorra a árvore de acordo com a sequência de bits do arquivo codificado. Quando encontra uma folha, imprima o símbolo correspondente.\n",
        "\n",
        "Nosso arquivo codificado inicia-se com bit $1$, então descemos da raiz para a direita e encontramos o elemento $A$. Como $A$ é uma folha, imprimimos o símbolo. O próximo bit é 0, então descemos da raiz para a esquerda, como não encontramos uma folha, lemos mais um número. O próximo é 0, então descemos mais para a esquerda. Como não encontramos uma folha, lemos outro número. O próximo é 1, então descemos para direita. Encontramos uma folha com o elemento $T$, então imprimimos o símbolo. E assim por diante, até que não haja mais bits.\n",
        "\n",
        "\n",
        "\n",
        "\n",
        "\n",
        "\n",
        "\n",
        "\n",
        "\n"
      ]
    },
    {
      "cell_type": "markdown",
      "metadata": {
        "id": "Kx_JS3pvDNtI"
      },
      "source": [
        "#Implementação de Codificação de Huffman usando o pacote dahuffman\n",
        "\n",
        "Dahuffman é um pacote python para codificação e decodificação Huffman, comumente usado para compressão de dados sem perdas.\n",
        "\n",
        "A documentação desse pacote e exemplos de uso podem ser acessados em: [https://pypi.org/project/dahuffman/](https://pypi.org/project/dahuffman/)\n",
        "\n",
        "**Passo a passo para usar o Networkx:**\n",
        "\n",
        "**1º** Importar o pacote:\n",
        " OBS: esse pacote deve ser instalado!\n"
      ]
    },
    {
      "cell_type": "code",
      "metadata": {
        "colab": {
          "base_uri": "https://localhost:8080/"
        },
        "id": "STXLpqrW7Asz",
        "outputId": "24a3bea3-9da8-45c1-809e-6a154bb0adb9"
      },
      "source": [
        "!pip install dahuffman"
      ],
      "execution_count": null,
      "outputs": [
        {
          "output_type": "stream",
          "text": [
            "Collecting dahuffman\n",
            "  Downloading https://files.pythonhosted.org/packages/08/c4/9c87ef391fae4b557ca3c4ef8eabd1538a7ce568174806e9d76c8f056785/dahuffman-0.4.1-py2.py3-none-any.whl\n",
            "Installing collected packages: dahuffman\n",
            "Successfully installed dahuffman-0.4.1\n"
          ],
          "name": "stdout"
        }
      ]
    },
    {
      "cell_type": "code",
      "metadata": {
        "id": "7Lz4SXI9h6zO"
      },
      "source": [
        "from dahuffman import HuffmanCodec"
      ],
      "execution_count": null,
      "outputs": []
    },
    {
      "cell_type": "markdown",
      "metadata": {
        "id": "gjd2A60RsNwg"
      },
      "source": [
        "**2º** Executar o algoritmo com a lista de frequências:\n"
      ]
    },
    {
      "cell_type": "code",
      "metadata": {
        "id": "P83L90Zlkci0"
      },
      "source": [
        "codec = HuffmanCodec.from_frequencies({'A': 10, 'T':8, 'G':9, 'C': 6})"
      ],
      "execution_count": null,
      "outputs": []
    },
    {
      "cell_type": "markdown",
      "metadata": {
        "id": "lofIWhfsRxhl"
      },
      "source": [
        "**3º** Codificar"
      ]
    },
    {
      "cell_type": "code",
      "metadata": {
        "id": "ZD-2nJzGQK51"
      },
      "source": [
        "encoded = codec.encode('ATAGATGCATAGCGCATAGCTAGATGTGCTAGC')"
      ],
      "execution_count": null,
      "outputs": []
    },
    {
      "cell_type": "markdown",
      "metadata": {
        "id": "4o5Vk0PbSDnU"
      },
      "source": [
        "**3º** Decodificar"
      ]
    },
    {
      "cell_type": "code",
      "metadata": {
        "colab": {
          "base_uri": "https://localhost:8080/",
          "height": 35
        },
        "id": "iTAs8TOlQtv-",
        "outputId": "d1e82156-0871-4b29-eaf8-4e34b8907686"
      },
      "source": [
        "codec.decode(encoded)"
      ],
      "execution_count": null,
      "outputs": [
        {
          "output_type": "execute_result",
          "data": {
            "application/vnd.google.colaboratory.intrinsic+json": {
              "type": "string"
            },
            "text/plain": [
              "'ATAGATGCATAGCGCATAGCTAGATGTGCTAGC'"
            ]
          },
          "metadata": {
            "tags": []
          },
          "execution_count": 7
        }
      ]
    },
    {
      "cell_type": "markdown",
      "metadata": {
        "id": "5s-dZc2LSHw8"
      },
      "source": [
        "**4º** Visualizar a tabela de códigos"
      ]
    },
    {
      "cell_type": "code",
      "metadata": {
        "colab": {
          "base_uri": "https://localhost:8080/"
        },
        "id": "QXkCz-mbRAn8",
        "outputId": "26cd1099-0c7a-4928-ec72-e28ec7c3afde"
      },
      "source": [
        "codec.print_code_table()"
      ],
      "execution_count": null,
      "outputs": [
        {
          "output_type": "stream",
          "text": [
            "Bits Code Value Symbol\n",
            "   3 000      0 _EOF\n",
            "   3 001      1 'C'\n",
            "   2 01       1 'T'\n",
            "   2 10       2 'G'\n",
            "   2 11       3 'A'\n"
          ],
          "name": "stdout"
        }
      ]
    }
  ]
}