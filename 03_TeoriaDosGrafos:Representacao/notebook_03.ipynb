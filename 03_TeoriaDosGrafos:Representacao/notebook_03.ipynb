{
  "nbformat": 4,
  "nbformat_minor": 0,
  "metadata": {
    "colab": {
      "name": "notebook_03.ipynb",
      "provenance": [],
      "authorship_tag": "ABX9TyN+inC/TpOFGPa9v/5nFB9y",
      "include_colab_link": true
    },
    "kernelspec": {
      "name": "python3",
      "display_name": "Python 3"
    }
  },
  "cells": [
    {
      "cell_type": "markdown",
      "metadata": {
        "id": "view-in-github",
        "colab_type": "text"
      },
      "source": [
        "<a href=\"https://colab.research.google.com/github/PatriciaLucas/AEDIII/blob/main/03_TeoriaDosGrafos%3ARepresentacao/notebook_03.ipynb\" target=\"_parent\"><img src=\"https://colab.research.google.com/assets/colab-badge.svg\" alt=\"Open In Colab\"/></a>"
      ]
    },
    {
      "cell_type": "markdown",
      "metadata": {
        "id": "2nDho8Ibhgm0"
      },
      "source": [
        "# Formas de representar um grafo\n",
        "\n",
        "* Se |E|≈|V|2, dizemos que o grafo é **denso**, ou seja, grafos onde o número de arestas se aproxima do máximo de arestas possível.\n",
        "* Se |E|≈|V|, dizemos que o grafo é **esparso**, ou seja, grafos que possuem um pequeno número de arestas em relação ao número de vértices.\n",
        "* Se você sabe que o grafo que está modelando é denso, ou esparso, isso pode influenciar na sua decisão sobre qual estrutura de dados é a mais apropriada.\n",
        "* Quando o grafo é esparso, o método **lista de adjacências** é mais interessante, já para grafos densos ou para aplicações onde precisamos saber rapidamente se há uma aresta conectando dois vértices, o método **matriz de adjacências** é melhor.\n",
        "\n"
      ]
    },
    {
      "cell_type": "markdown",
      "metadata": {
        "id": "MJv5UPq5inyI"
      },
      "source": [
        "# Lista de adjacências\n",
        "\n",
        "* Para cada vértice $v$ de $V$, existe uma lista de adjacências contendo todos os vértices adjacentes de $v$.\n",
        "* A quantidade de memória exigida é $O(|V|+|E|)$.\n",
        "\n",
        "\n",
        "![](https://github.com/PatriciaLucas/AEDIII/blob/main/Figuras/lista_adjacencias.jpg?raw=true)\n",
        "\n"
      ]
    },
    {
      "cell_type": "markdown",
      "metadata": {
        "id": "7eVJQpF8nk9G"
      },
      "source": [
        "### Lista de adjacências em python\n",
        "\n"
      ]
    },
    {
      "cell_type": "code",
      "metadata": {
        "id": "OhHCGrTkhb9r"
      },
      "source": [
        "Grafo_nao_dirigido = {\n",
        "  '1' : ['2','5'],\n",
        "  '2' : ['1','5','3','4'],\n",
        "  '3' : ['2','4'],\n",
        "  '4' : ['2','5','3'],\n",
        "  '5' : ['4','1','2'],\n",
        "}\n",
        "\n",
        "Grafo_nao_dirigido"
      ],
      "execution_count": null,
      "outputs": []
    },
    {
      "cell_type": "code",
      "metadata": {
        "id": "3hpnagL5n-G9"
      },
      "source": [
        "Grafo_dirigido = {\n",
        "  '1' : ['2','4'],\n",
        "  '2' : ['5'],\n",
        "  '3' : ['6','5'],\n",
        "  '4' : ['2'],\n",
        "  '5' : ['4'],\n",
        "  '6' : ['6']\n",
        "}\n",
        "\n",
        "Grafo_dirigido"
      ],
      "execution_count": null,
      "outputs": []
    },
    {
      "cell_type": "markdown",
      "metadata": {
        "id": "xO-Vpm0HpXK3"
      },
      "source": [
        "# Matriz de adjacências\n",
        "\n",
        "* A representação consiste em uma matriz $|V| \\times |V|$ tal que:  $a_{i,j} = \\left \\lbrace \\begin{matrix}1 & se (i,j) \\in E \\\\ 0 & se (i,j) \\notin E \\end{matrix} \\right. $\n",
        "\n",
        "* A quantidade de memória exigida é $O(|V|^2)$.\n",
        "\n",
        "![](https://github.com/PatriciaLucas/AEDIII/blob/main/Figuras/matriz_adjacencias.jpg?raw=true)"
      ]
    },
    {
      "cell_type": "markdown",
      "metadata": {
        "id": "dYCxGLrtvY0r"
      },
      "source": [
        "### Matriz de adjacências em python"
      ]
    },
    {
      "cell_type": "code",
      "metadata": {
        "id": "eC9PVpiXwCSS"
      },
      "source": [
        "Grafo_nao_dirigido = [[0, 1, 0, 0, 1], \n",
        "                      [1, 0, 1, 1, 1],\n",
        "                      [0, 1, 0, 1, 0],\n",
        "                      [0, 1, 1, 0, 1],\n",
        "                      [1, 1, 0, 1, 0]]\n",
        "\n",
        "Grafo_nao_dirigido"
      ],
      "execution_count": null,
      "outputs": []
    },
    {
      "cell_type": "code",
      "metadata": {
        "id": "--ki4GCIwsXL"
      },
      "source": [
        "Grafo_dirigido = [[0, 1, 0, 0, 1, 1], \n",
        "                  [1, 0, 1, 1, 1, 1],\n",
        "                  [0, 1, 0, 1, 0, 0],\n",
        "                  [0, 1, 1, 0, 1, 1],\n",
        "                  [1, 1, 0, 1, 0, 0],\n",
        "                  [1, 1, 0, 1, 0, 0]]\n",
        "\n",
        "Grafo_dirigido"
      ],
      "execution_count": null,
      "outputs": []
    }
  ]
}