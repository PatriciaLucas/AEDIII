{
  "nbformat": 4,
  "nbformat_minor": 0,
  "metadata": {
    "colab": {
      "name": "notebook_05.ipynb",
      "provenance": [],
      "collapsed_sections": [],
      "authorship_tag": "ABX9TyOba1BEfD1AUjNkd2FNLw/Z",
      "include_colab_link": true
    },
    "kernelspec": {
      "name": "python3",
      "display_name": "Python 3"
    }
  },
  "cells": [
    {
      "cell_type": "markdown",
      "metadata": {
        "id": "view-in-github",
        "colab_type": "text"
      },
      "source": [
        "<a href=\"https://colab.research.google.com/github/PatriciaLucas/AEDIII/blob/main/05_TeoriaDosGrafos%3AOrdenacaoTopologica/notebook_05.ipynb\" target=\"_parent\"><img src=\"https://colab.research.google.com/assets/colab-badge.svg\" alt=\"Open In Colab\"/></a>"
      ]
    },
    {
      "cell_type": "markdown",
      "metadata": {
        "id": "hcMTOLoHZ8gz"
      },
      "source": [
        "```\n",
        "Instituto Federal do Norte de Minas Gerais - Campus Salinas\n",
        "Bacharelado em Sistemas de Informação\n",
        "Disciplina: AEDIII\n",
        "Professora: Patrícia Lucas\n",
        "```"
      ]
    },
    {
      "cell_type": "markdown",
      "metadata": {
        "id": "Vk7L6bBCKAtO"
      },
      "source": [
        "# Ordenação Topológica\n",
        "\n",
        "A ordenação topológica fornece uma ordem linear de vértices em um DAG (Grafo acíclico direcionado), de modo que, para cada aresta direcionada $a \\rightarrow b$, o vértice $a$ vem antes do vértice $b$. Mas o que é um DAG??\n",
        "\n",
        "Em ciência da computação e matemática, um DAG é um grafo direcionado finito sem ciclos. Em outras palavras, é um grafo em que tudo flui na mesma direção.\n",
        "\n",
        "*   *Dirigido* : implica que as arestas entre todos os vértices têm a mesma direção.\n",
        "*   *Acíclico* : significa que os ciclos não são possíveis.\n",
        "*   Deve possuir **pelo menos** um vértice com grau de entrada 0 e um vértice com grau de saída 0.\n",
        "*   Pode existir mais de uma ordem topológica para um mesmo DAG.\n",
        "\n",
        "Exemplo:\n",
        "\n",
        "![alt text](https://github.com/PatriciaLucas/AEDIII/blob/main/Figuras/notebook05_01.jpg?raw=true)\n",
        "\n",
        "![](https://github.com/PatriciaLucas/AEDIII/blob/main/Figuras/notebook05_02.jpg?raw=true)\n",
        "\n",
        "\n",
        "\n",
        "\n",
        "\n"
      ]
    },
    {
      "cell_type": "markdown",
      "metadata": {
        "id": "7DOr9eZXtJ3i"
      },
      "source": [
        "####Vamos criar uma lista de adjacências para o DAG mostrado no exemplo:"
      ]
    },
    {
      "cell_type": "code",
      "metadata": {
        "id": "onGnhkoaxY7x"
      },
      "source": [
        "DAG = {\n",
        "  'Cuecas' : ['Calça','Sapatos'],\n",
        "  'Calça' : ['Cinto','Sapatos'],\n",
        "  'Cinto' : ['Paleto'],\n",
        "  'Camisa' : ['Cinto','Gravata'],\n",
        "  'Gravata' : ['Paleto'],\n",
        "  'Paleto' : [],\n",
        "  'Meias' : ['Sapatos'],\n",
        "  'Sapatos' : [],\n",
        "  'Relogio' : []\n",
        "}"
      ],
      "execution_count": null,
      "outputs": []
    },
    {
      "cell_type": "markdown",
      "metadata": {
        "id": "ndvj-hw-tUez"
      },
      "source": [
        "####Para obter a ordenação topológica do DAG G, vamos usar o algoritmo de Kahn\n",
        "\n",
        "O algoritmo de Kahn é usado para executar uma classificação topológica em um DAG com complexidade de tempo de $O(V + E)$, onde $V$ é o número de vértices e $E$ é o número de arestas no grafo.\n",
        "\n",
        "Os passos abaixo estão envolvidos no algoritmo de Kahn:\n",
        "\n",
        "```\n",
        "1. Calcule o grau de cada vértice do grafo e armazene em \"D\".\n",
        "2. Enfileire os vértices com o grau de 0 e armazene em \"fila\".\n",
        "  2.1 Remova da fila um vértice.\n",
        "  2.2 Adicione este vértice ao \"resultado\".\n",
        "  2.3 Aumente a variável \"visitas\" em 1.\n",
        "  2.4 Reduza o grau de todos os seus vértices vizinhos em 1 em \"D\".\n",
        "  2.5 Enfileire os vértices vizinhos com o grau de 0.\n",
        "3. Se o valor da variável \"visitas\" for igual ao número de vértices no grafo, o grafo será realmente um DAG e o \"resultado\" conterá a sua classificação topológica.\n",
        "\n",
        "```\n",
        "\n",
        "Abaixo estão os scripts para a função **get_degree** (que retorna o grau de todos os vértices de um grafo) e a função **TS** (que retorna a ordenação topológica de um DAG).\n",
        "\n"
      ]
    },
    {
      "cell_type": "code",
      "metadata": {
        "id": "9SY5zUZ0IWCR"
      },
      "source": [
        "def get_degree(G):\n",
        "  keys = G.keys()\n",
        "  D = dict.fromkeys(keys, 0)\n",
        "  for i in G:\n",
        "    for j in G[i]:\n",
        "      D[j] = D[j] + 1\n",
        "  return D"
      ],
      "execution_count": null,
      "outputs": []
    },
    {
      "cell_type": "code",
      "metadata": {
        "id": "PeHGMOlHM9ip"
      },
      "source": [
        "def TS(G):\n",
        "  D = get_degree(G)\n",
        "  fila = [k for k,v in D.items() if float(v) == 0]\n",
        "  visitas = 0\n",
        "  resultado = []\n",
        "  while fila:\n",
        "    s = fila.pop(0)\n",
        "    resultado.append(s)\n",
        "    visitas = visitas + 1\n",
        "    for i in G[s]:\n",
        "      if D[i]>0:\n",
        "        D[i] = D[i]-1\n",
        "    fila = list(set([k for k,v in D.items() if float(v) == 0]) - set(resultado))\n",
        "  if visitas == len(G):\n",
        "    print(\"O Grafo é um DAG\")\n",
        "  else:\n",
        "    print(\"O grafo não é um DAG\")\n",
        "  return resultado"
      ],
      "execution_count": null,
      "outputs": []
    },
    {
      "cell_type": "markdown",
      "metadata": {
        "id": "3hmj5wWAtqOI"
      },
      "source": [
        "Chamando a função TS"
      ]
    },
    {
      "cell_type": "code",
      "metadata": {
        "id": "HgkskeoRodrz",
        "colab": {
          "base_uri": "https://localhost:8080/",
          "height": 187
        },
        "outputId": "bac85d2a-4dce-467d-9687-f02ad1c36615"
      },
      "source": [
        "result = TS(DAG)\n",
        "result"
      ],
      "execution_count": null,
      "outputs": [
        {
          "output_type": "stream",
          "text": [
            "O Grafo é um DAG\n"
          ],
          "name": "stdout"
        },
        {
          "output_type": "execute_result",
          "data": {
            "text/plain": [
              "['Cuecas',\n",
              " 'Camisa',\n",
              " 'Gravata',\n",
              " 'Meias',\n",
              " 'Calça',\n",
              " 'Cinto',\n",
              " 'Sapatos',\n",
              " 'Relogio',\n",
              " 'Paleto']"
            ]
          },
          "metadata": {
            "tags": []
          },
          "execution_count": 5
        }
      ]
    }
  ]
}