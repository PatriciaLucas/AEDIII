{
  "nbformat": 4,
  "nbformat_minor": 0,
  "metadata": {
    "colab": {
      "name": "notebook_07.ipynb",
      "provenance": [],
      "collapsed_sections": [],
      "authorship_tag": "ABX9TyPlQJvqwWb5dqVhwe16VFyY",
      "include_colab_link": true
    },
    "kernelspec": {
      "name": "python3",
      "display_name": "Python 3"
    }
  },
  "cells": [
    {
      "cell_type": "markdown",
      "metadata": {
        "id": "view-in-github",
        "colab_type": "text"
      },
      "source": [
        "<a href=\"https://colab.research.google.com/github/PatriciaLucas/AEDIII/blob/main/07_TeoriaDosGrafos%3AArvoresGeradoras/notebook_07.ipynb\" target=\"_parent\"><img src=\"https://colab.research.google.com/assets/colab-badge.svg\" alt=\"Open In Colab\"/></a>"
      ]
    },
    {
      "cell_type": "markdown",
      "metadata": {
        "id": "-nFpYrGk2v1z"
      },
      "source": [
        "```\r\n",
        "Instituto Federal do Norte de Minas Gerais - Campus Salinas\r\n",
        "Bacharelado em Sistemas de Informação\r\n",
        "Disciplina: AEDIII\r\n",
        "Professora: Patrícia Lucas\r\n",
        "```"
      ]
    },
    {
      "cell_type": "markdown",
      "metadata": {
        "id": "cEHMvuu9aa9z"
      },
      "source": [
        "#Árvore Geradora\n",
        "\n",
        "Dado um grafo conexo, não orientado e ponderado $G$:\n",
        "\n",
        "![](https://github.com/PatriciaLucas/AEDIII/blob/main/Figuras/notebook07_01.jpg?raw=true)\n",
        "\n",
        "Uma **árvore geradora**:\n",
        " \n",
        "*   É um **subgrafo de $G$**.\n",
        "*   Contém todos os vértices de $G$.\n",
        "*   Contém menos arestas.\n",
        "*   É conexo.\n",
        "*   Não possui ciclos.\n",
        "\n",
        "No grafo $G$, podemos encontrar mais de uma árvore geradora como, por exemplo, a árvore $H$ e $I$, ambas compostas pelas arestas vermelhas:\n",
        "\n",
        "![space-1.jpg](https://github.com/PatriciaLucas/AEDIII/blob/main/Figuras/notebook07_02.jpg?raw=true)**$H$** \n",
        "![space-1.jpg](https://github.com/PatriciaLucas/AEDIII/blob/main/Figuras/notebook07_03.jpg?raw=true)**$I$**\n",
        "\n",
        "\n",
        "\n",
        "#Árvore Geradora Mínima\n",
        "\n",
        "É uma árvore geradora composta por arestas cuja soma total dos pesos é mínima. No grafo $G$ temos a seguinte árvore geradora mínima $J$ (composta pelas arestas vermelhas), cuja soma dos pesos é 11. Perceba que $J$ possui um custo menor em relação a $H$ e $I$.\n",
        "\n",
        "![](https://github.com/PatriciaLucas/AEDIII/blob/main/Figuras/notebook07_04.jpg?raw=true)$J$\n",
        "\n",
        "**Exemplo prático:**\n",
        "\n",
        "Suponha que uma companhia aérea recebeu permissão para voar nas rotas da Figura 1. A empresa precisa atender toda a demanda aérea do país e os passageiros podem fazer conexões. Mas por questões de economia, a empresa não irá operar em todas as vias. Qual a rota de custo mínimo que garante que a empresa irá atender todas as cidades?\n",
        "\n",
        "![](https://github.com/PatriciaLucas/AEDIII/blob/main/Figuras/notebook07_05.png?raw=true) **Figura 1 - Grafo $G$**\n",
        "\n",
        "Vamos estudar o algoritmo de Kruskal encontrar a rota de custo mínimo:\n",
        "\n",
        "\n",
        "\n",
        "\n",
        "\n",
        "\n",
        "\n",
        "\n",
        "\n",
        "\n"
      ]
    },
    {
      "cell_type": "markdown",
      "metadata": {
        "id": "AdhafK_XfcAZ"
      },
      "source": [
        "#Algoritmo de Kruskal\n",
        "\n",
        "O algoritmo de Kruskal é guloso, ou seja, sua estratégia faz a escolha que é melhor no momento. Dessa forma, a cada passo o algoritmo adiciona uma aresta com o mínimo de peso possível. Vamos fazer um passo a passo usando o problema da companhia aérea (grafo $G$ da Figura 1).\n",
        "\n",
        "**Passo 1.** Classifique todas as arestas em ordem crescente de seu peso.\n",
        "\n",
        "|             Aresta            | Peso |\n",
        "|:-----------------------------:|:----:|\n",
        "|    Detroit - Austin, Texas    |  50  |\n",
        "|    San Francisco - Seattle    |  218 |\n",
        "|       Hong Kong - Tokyo       |  250 |\n",
        "|    Washington DC - Seattle    |  277 |\n",
        "| Austin, Texas - Washington DC |  292 |\n",
        "| Austin, Texas - San Francisco |  297 |\n",
        "|     Singapore - Hong Kong     |  300 |\n",
        "|     Tokyo - Washington DC     |  300 |\n",
        "| Washington DC - San Francisco |  337 |\n",
        "|        Tokyo - Detroit        |  450 |\n",
        "|       Singapore - Tokyo       |  500 |\n",
        "|   Hong Kong - San Francisco   |  600 |\n",
        "\n",
        "**Passo 2.** Escolha a aresta com menor peso. Verifique se forma um ciclo com a árvore geradora formada até agora. Se o ciclo não for formado, inclua esta aresta. Caso contrário, descarte-a. Repita o passo 2 até que haja $(|V|-1)$ arestas em $G'$.\n",
        "\n",
        "Vamos chamar a árvore geradora mínima de $G'$. Inicialmente $G'$ possui apenas vértices $|E| = 0$. Sendo $|V|$ de $G = |V|$ de $G'$.\n",
        "\n",
        "![](https://github.com/PatriciaLucas/AEDIII/blob/main/Figuras/notebook07_05.jpg?raw=true)\n",
        "\n",
        "---\n",
        "\n",
        "Escolhendo a 1ª aresta da lista acima (Detroit - Austin, Texas), temos:\n",
        "\n",
        "![](https://github.com/PatriciaLucas/AEDIII/blob/main/Figuras/notebook07_06.jpg?raw=true)\n",
        "\n",
        "Essa aresta forma um ciclo em $G'$? Não. Então podemos incluí-la em $G'$.\n",
        "$|E| \\ne |V| -1$, então repete-se o passo 2.\n",
        "\n",
        "---\n",
        "\n",
        "Escolhendo a próxima aresta da lista (San Francisco - Seattle), temos:\n",
        "\n",
        "![](https://github.com/PatriciaLucas/AEDIII/blob/main/Figuras/notebook07_07.jpg?raw=true)\n",
        "\n",
        "Essa aresta forma um ciclo em $G'$? Não. Então podemos incluí-la em $G'$.\n",
        "$|E| \\ne |V| -1$, então repete-se o passo 2.\n",
        "\n",
        "---\n",
        "\n",
        "Escolhendo a próxima aresta da lista (Hong Kong - Tokyo), temos:\n",
        "\n",
        "![](https://github.com/PatriciaLucas/AEDIII/blob/main/Figuras/notebook07_08.jpg?raw=true)\n",
        "\n",
        "Essa aresta forma um ciclo em $G'$? Não. Então podemos incluí-la em $G'$.\n",
        "$|E| \\ne |V| -1$, então repete-se o passo 2.\n",
        "\n",
        "\n",
        "---\n",
        "\n",
        "Escolhendo a próxima aresta da lista (Washington DC - Seattle), temos:\n",
        "\n",
        "![](https://github.com/PatriciaLucas/AEDIII/blob/main/Figuras/notebook07_09.jpg?raw=true)\n",
        "\n",
        "Essa aresta forma um ciclo em $G'$? Não. Então podemos incluí-la em $G'$.\n",
        "$|E| \\ne |V| -1$, então repete-se o passo 2.\n",
        "\n",
        "---\n",
        "\n",
        "Escolhendo a próxima aresta da lista (Austin, Texas - Washington DC), temos:\n",
        "\n",
        "![](https://github.com/PatriciaLucas/AEDIII/blob/main/Figuras/notebook07_10.jpg?raw=true)\n",
        "\n",
        "Essa aresta forma um ciclo em $G'$? Não. Então podemos incluí-la em $G'$.\n",
        "$|E| \\ne |V| -1$, então repete-se o passo 2.\n",
        "\n",
        "---\n",
        "\n",
        "Escolhendo a próxima aresta da lista (Austin, Texas - San Francisco), temos:\n",
        "\n",
        "![](https://github.com/PatriciaLucas/AEDIII/blob/main/Figuras/notebook07_11.jpg?raw=true)\n",
        "\n",
        "Essa aresta forma um ciclo em $G'$? Sim. Então descartamos a aresta.\n",
        "$|E| \\ne |V| -1$, então repete-se o passo 2.\n",
        "\n",
        "---\n",
        "\n",
        "Escolhendo a próxima aresta da lista (Singapore - Hong Kong), temos:\n",
        "\n",
        "![](https://github.com/PatriciaLucas/AEDIII/blob/main/Figuras/notebook07_12.jpg?raw=true)\n",
        "\n",
        "Essa aresta forma um ciclo em $G'$? Não. Então podemos incluí-la em $G'$.\n",
        "$|E| \\ne |V| -1$, então repete-se o passo 2.\n",
        "\n",
        "---\n",
        "\n",
        "Escolhendo a próxima aresta da lista (Tokyo - Washington DC), temos:\n",
        "\n",
        "![](https://github.com/PatriciaLucas/AEDIII/blob/main/Figuras/notebook07_13.jpg?raw=true)\n",
        "\n",
        "Essa aresta forma um ciclo em $G'$? Não. Então podemos incluí-la em $G'$.\n",
        "$|E| = |V| -1$, finaliza-se o algoritmo e retorna $G'$."
      ]
    },
    {
      "cell_type": "markdown",
      "metadata": {
        "id": "Kx_JS3pvDNtI"
      },
      "source": [
        "#Implementação do algoritmo de Kruskal usando o pacote Networkx\n",
        "\n",
        "O pacote NetworkX fornece estruturas de dados para grafos (ou redes) juntamente com algoritmos e ferramentas de desenho.\n",
        "\n",
        "A documentação desse pacote e exemplos de uso podem ser acessados em: [https://networkx.org/documentation/stable/index.html](https://networkx.org/documentation/stable/index.html)\n",
        "\n",
        "**Passo a passo para usar o Networkx:**\n",
        "\n",
        "**1º** Importar o pacote:\n",
        "\n",
        "OBS: esse pacote não precisa ser instalado!\n",
        "\n"
      ]
    },
    {
      "cell_type": "code",
      "metadata": {
        "id": "7Lz4SXI9h6zO"
      },
      "source": [
        "import networkx as nx"
      ],
      "execution_count": 16,
      "outputs": []
    },
    {
      "cell_type": "markdown",
      "metadata": {
        "id": "gjd2A60RsNwg"
      },
      "source": [
        "**2º** Criar um grafo G:"
      ]
    },
    {
      "cell_type": "code",
      "metadata": {
        "id": "P83L90Zlkci0"
      },
      "source": [
        "G = nx.Graph()"
      ],
      "execution_count": 8,
      "outputs": []
    },
    {
      "cell_type": "markdown",
      "metadata": {
        "id": "mLsYTzZ0seqR"
      },
      "source": [
        "**3º** Criar arestas (edges):"
      ]
    },
    {
      "cell_type": "code",
      "metadata": {
        "id": "N20BJ0kmkmgF"
      },
      "source": [
        "G.add_edge('Singapore', 'Tokyo', weight=500)\r\n",
        "G.add_edge('Singapore', 'Hong Kong', weight=300)\r\n",
        "G.add_edge('Tokyo', 'Hong Kong', weight=250)\r\n",
        "G.add_edge('Tokyo', 'Detroit', weight=450)\r\n",
        "G.add_edge('Tokyo', 'Washington DC', weight=300)\r\n",
        "G.add_edge('Hong Kong', 'San Francisco', weight=600)\r\n",
        "G.add_edge('Detroit', 'Austin', weight=50)\r\n",
        "G.add_edge('Austin', 'Washington DC', weight=292)\r\n",
        "G.add_edge('San Francisco', 'Washington DC', weight=337)\r\n",
        "G.add_edge('Washington DC','Seattle', weight=277)\r\n",
        "G.add_edge('San Francisco', 'Seattle', weight=218)\r\n",
        "G.add_edge('San Francisco', 'Austin', weight=297)"
      ],
      "execution_count": 46,
      "outputs": []
    },
    {
      "cell_type": "markdown",
      "metadata": {
        "id": "IbRrt23MsvQx"
      },
      "source": [
        "**4º** Desenhar o grafo G:"
      ]
    },
    {
      "cell_type": "code",
      "metadata": {
        "colab": {
          "base_uri": "https://localhost:8080/",
          "height": 391
        },
        "id": "y1SKzahmlJYc",
        "outputId": "595530e9-42a6-4bfd-db9a-540c7f645273"
      },
      "source": [
        "import matplotlib.pyplot as plt\r\n",
        "plt.figure(figsize=(10,5))\r\n",
        "nx.draw(G,pos,with_labels=True,width=2,node_size=1000, node_color='red')\r\n",
        "plt.savefig('grafo.png')"
      ],
      "execution_count": 66,
      "outputs": [
        {
          "output_type": "display_data",
          "data": {
            "image/png": "[encoded data removed]",
            "text/plain": [
              "<Figure size 720x360 with 1 Axes>"
            ]
          },
          "metadata": {
            "tags": []
          }
        }
      ]
    },
    {
      "cell_type": "markdown",
      "metadata": {
        "id": "1EkmXZgE0Kbz"
      },
      "source": [
        "**5º** Gerar a Árbore Geradora Mínima de G:"
      ]
    },
    {
      "cell_type": "code",
      "metadata": {
        "colab": {
          "base_uri": "https://localhost:8080/"
        },
        "id": "JruPlYA3oOIs",
        "outputId": "5d52d86b-4c08-4f1f-cc9e-4be0a2a07701"
      },
      "source": [
        "tree = nx.algorithms.tree.minimum_spanning_edges(G, algorithm=\"kruskal\", data=False)\r\n",
        "edges = list(tree)\r\n",
        "edges"
      ],
      "execution_count": 15,
      "outputs": [
        {
          "output_type": "execute_result",
          "data": {
            "text/plain": [
              "[('Detroit', 'Austin'),\n",
              " ('San Francisco', 'Seattle'),\n",
              " ('Tokyo', 'Hong Kong'),\n",
              " ('Washington DC', 'Seattle'),\n",
              " ('Washington DC', 'Austin'),\n",
              " ('Singapore', 'Hong Kong'),\n",
              " ('Tokyo', 'Washington DC')]"
            ]
          },
          "metadata": {
            "tags": []
          },
          "execution_count": 15
        }
      ]
    }
  ]
}