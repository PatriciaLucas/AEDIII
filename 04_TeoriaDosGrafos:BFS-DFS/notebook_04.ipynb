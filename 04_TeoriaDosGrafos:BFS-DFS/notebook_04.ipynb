{
  "nbformat": 4,
  "nbformat_minor": 0,
  "metadata": {
    "colab": {
      "name": "BFS and DFS.ipynb",
      "provenance": [],
      "authorship_tag": "ABX9TyPOj8EZU2t9Tjgk+nUD5e2F",
      "include_colab_link": true
    },
    "kernelspec": {
      "name": "python3",
      "display_name": "Python 3"
    }
  },
  "cells": [
    {
      "cell_type": "markdown",
      "metadata": {
        "id": "view-in-github",
        "colab_type": "text"
      },
      "source": [
        "<a href=\"https://colab.research.google.com/github/PatriciaLucas/AEDIII/blob/main/04_TeoriaDosGrafos%3ABFS-DFS/notebook_04.ipynb\" target=\"_parent\"><img src=\"https://colab.research.google.com/assets/colab-badge.svg\" alt=\"Open In Colab\"/></a>"
      ]
    },
    {
      "cell_type": "markdown",
      "metadata": {
        "id": "Zrs9s7WLdaji"
      },
      "source": [
        "```\n",
        "Instituto Federal do Norte de Minas Gerais - Campus Salinas\n",
        "Bacharelado em Sistemas de Informação\n",
        "Disciplina: AEDIII\n",
        "Professora: Patrícia Lucas\n",
        "```"
      ]
    },
    {
      "cell_type": "markdown",
      "metadata": {
        "id": "RWH3Kl_-fnkC"
      },
      "source": [
        "#Algoritmo Breadth-First Search e Depth-First Search\n",
        "\n",
        "Este notebook apresenta as implementações em python dos algoritmos de busca em grafos: BFS e DFS.\n",
        "\n",
        "Primeiramente, vamos criar uma estrutura em lista de adjacências para o grafo **G** abaixo:\n",
        "\n",
        "\n",
        "![Grafo G](https://github.com/PatriciaLucas/AEDIII/blob/main/Figuras/notebook04_1.jpg?raw=true)\n",
        "\n"
      ]
    },
    {
      "cell_type": "code",
      "metadata": {
        "id": "rRkeIwUlsl3t",
        "colab": {
          "base_uri": "https://localhost:8080/",
          "height": 34
        },
        "outputId": "2b1a1010-cff2-465e-ba21-e359fef53d26"
      },
      "source": [
        "G = {\n",
        "  'A' : ['B','C'],\n",
        "  'B' : ['D','E'],\n",
        "  'C' : ['D'],\n",
        "  'D' : ['E'],\n",
        "  'E' : [],\n",
        "}\n",
        "\n",
        "G"
      ],
      "execution_count": null,
      "outputs": [
        {
          "output_type": "execute_result",
          "data": {
            "text/plain": [
              "{'A': ['B', 'C'], 'B': ['D', 'E'], 'C': ['D'], 'D': ['E'], 'E': []}"
            ]
          },
          "metadata": {
            "tags": []
          },
          "execution_count": 1
        }
      ]
    },
    {
      "cell_type": "markdown",
      "metadata": {
        "id": "JHxAuRcRFJtp"
      },
      "source": [
        "##BFS: Busca em largura\n",
        "\n",
        "A busca em largura (BFS) é um algoritmo para percorrer ou pesquisar estruturas de dados em árvore ou grafo. Ele explora todos os nós na profundidade atual antes de passar para os nós no próximo nível de profundidade.\n",
        "\n",
        "Aqui estão as etapas para o BFS. Precisaremos de 2 filas que chamaremos de lista e visitas. Em 'visitas' será armazenado o resultado, ou seja, a ordem em que os vértices foram visitados. Já lista usaremos como auxiliar.\n",
        "\n",
        "```\n",
        "1. Escolha 1 vértice para começar e salve-o em 'lista' e em 'visitas'\n",
        "2. Enquanto 'lista' não estiver vazia:\n",
        "      Retire um vértice v de 'lista'\n",
        "      Para cada vizinho w de v:\n",
        "          Se w não está em 'visitas' então:\n",
        "              Salve w em 'visitas'\n",
        "              Salve w em 'lista'\n",
        "```\n",
        "\n",
        "**Exemplo:**\n",
        "\n",
        "Vamos começar pelo 'A':\n",
        "\n",
        "![](http://patricialucas.net/wp-content/uploads/2020/06/bfs1.jpg)\n",
        "\n",
        "Retirando o 1º elemento de 'lista', que é o vértice 'A'. Os vizinhos do vértice 'A', 'B' e 'C', se ainda não foram visitados, são adicionamos às listas.\n",
        "\n",
        "![](http://patricialucas.net/wp-content/uploads/2020/06/bfs2.jpg)\n",
        "\n",
        "Agora, 'B' é o 1º elemento da lista. Extraímos 'B'e verificamos se seus vizinhos já foram visitados. 'D' e 'E' não estão em 'visitas', então são inseridos nas listas. \n",
        "\n",
        "![](http://patricialucas.net/wp-content/uploads/2020/06/bfs3.jpg)\n",
        "\n",
        "Agora, 'C' é o 1º elemento de 'lista'. Mas o visinho de 'C', o vértice 'D', já foi visitado. A mesma coisa ocorre com 'D' e 'E'.\n",
        "\n",
        "\n",
        "Vamos criar uma função que implemente o algoritmo BFS.\n",
        "\n",
        "Entradas: grafo, vértice inicial.\n",
        "\n",
        "Saídas: lista dos vértices visitados na ordem das visitas.\n"
      ]
    },
    {
      "cell_type": "code",
      "metadata": {
        "id": "DhKjhNjieIj7",
        "colab": {
          "base_uri": "https://localhost:8080/",
          "height": 34
        },
        "outputId": "a645c94c-4dc1-402c-ea91-c223e3b5d838"
      },
      "source": [
        "def BFS(grafo, vertice):\n",
        "  visitas= [] #Cria lista para armazenar vértice já visitados.\n",
        "  lista = [] #Cria lista para armazenar vizinhos\n",
        "\n",
        "  visitas.append(vertice) #Inclui 1º vértice na lista de visitas\n",
        "  lista.append(vertice) #Inclui 1º vértice na lista de vizinhos\n",
        "\n",
        "  while lista: #Enquanto lista estiver cheia\n",
        "    s = lista.pop(0) # s recebe 1º elemento de lista e esse elemento é excluído de lista\n",
        "    i = 0\n",
        "    for i in grafo[s]: #Percorre os vizinhos do vértice s\n",
        "      if i not in visitas: #Se o vizinho não foi visitado\n",
        "        visitas.append(i) #visitas recebe o vértice i\n",
        "        lista.append(i) #lista recebe o vértice i\n",
        "      i = +1\n",
        "  return visitas\n",
        "\n",
        "\n",
        "visitas = BFS(G, 'A')\n",
        "print(visitas)"
      ],
      "execution_count": null,
      "outputs": [
        {
          "output_type": "stream",
          "text": [
            "['A', 'B', 'C', 'D', 'E']\n"
          ],
          "name": "stdout"
        }
      ]
    },
    {
      "cell_type": "markdown",
      "metadata": {
        "id": "_h5Sj-fEFHwc"
      },
      "source": [
        "#DFS: busca em profundidade\n",
        "\n",
        "A pesquisa profunda (DFS) é um algoritmo para percorrer ou pesquisar estruturas de dados em árvore ou grafo que usa a idéia de retroceder. Ele explora todos os vértices avançando até o último nível de profundidade, se possível, ou usa o retorno.\n",
        "\n",
        "Aqui estão as etapas para o DFS:\n",
        "\n",
        "```\n",
        "1.   Escolha um vértice v.\n",
        "2.   Se v não está em 'visitas' então:\n",
        "        Salve v em 'visitas'\n",
        "        Para cada vizinho w de v:\n",
        "          Chamar recursivamente a função\n",
        "```\n",
        "\n",
        "**Exemplo**\n",
        "\n",
        "Vamos iniciar pelo vértice 'A'. 'A' não está em 'visitas', então o salvamos em 'visitas'.\n",
        "\n",
        "![](http://patricialucas.net/wp-content/uploads/2020/06/Dfs1.jpg)\n",
        "\n",
        "Vamos para o vizinho 'B'. 'B' não está em 'visitas', então o salvamos em 'visitas'.\n",
        "\n",
        "![](http://patricialucas.net/wp-content/uploads/2020/06/Dfs2.jpg)\n",
        "\n",
        "Como o algoritmo é recursivo, agora visitamos os vizinhos de 'B'. Vamos para 'D'. 'D' não está em 'visitas', então o salvamos em 'visitas'.\n",
        "\n",
        "![](http://patricialucas.net/wp-content/uploads/2020/06/Dfs3.jpg)\n",
        "\n",
        "Agora visitamos os vizinhos de 'D'. Vamos para 'E'. 'E' não está em 'visitas', então o salvamos em 'visitas'.\n",
        "\n",
        "![](http://patricialucas.net/wp-content/uploads/2020/06/Dfs4.jpg)\n",
        "\n",
        "Como 'E' não tem vizinhos, retornamos para 'D'. Como 'D' não tem mais vizinhos, retornamos para 'B'. Como 'B' não tem mais vizinhos, retornamos para 'A'. De 'A' ainda podemos ir para 'C'. Vamos para 'C'. 'C' não está em 'visitas', então o salvamos em 'visitas'.\n",
        "\n",
        "![](http://patricialucas.net/wp-content/uploads/2020/06/Dfs5.jpg)\n",
        "\n",
        "Vamos criar uma função que implemente o algoritmo DFS.\n",
        "\n",
        "Entradas: lista de vértice já visitados, frafo, vértice inicial.\n",
        "\n",
        "Saídas: lista dos vértices visitados na ordem das visitas."
      ]
    },
    {
      "cell_type": "code",
      "metadata": {
        "id": "Qdj2BMLj1fQe",
        "colab": {
          "base_uri": "https://localhost:8080/",
          "height": 34
        },
        "outputId": "00138643-dc63-422b-ed26-035b05c2ebd5"
      },
      "source": [
        "visitas = []\n",
        "\n",
        "def dfs(visitas, grafo, vertice):\n",
        "    if vertice not in visitas:\n",
        "        visitas.append(vertice)\n",
        "        for i in grafo[vertice]:\n",
        "            dfs(visitas, grafo, i)\n",
        "    return visitas\n",
        "visitas = dfs(visitas, G, 'A')\n",
        "visitas"
      ],
      "execution_count": null,
      "outputs": [
        {
          "output_type": "execute_result",
          "data": {
            "text/plain": [
              "['A', 'B', 'D', 'E', 'C']"
            ]
          },
          "metadata": {
            "tags": []
          },
          "execution_count": 3
        }
      ]
    }
  ]
}