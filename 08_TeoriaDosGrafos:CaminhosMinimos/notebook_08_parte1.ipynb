{
  "nbformat": 4,
  "nbformat_minor": 0,
  "metadata": {
    "colab": {
      "name": "notebook_08.ipynb",
      "provenance": [],
      "collapsed_sections": [],
      "authorship_tag": "ABX9TyNk/ElYbU/w8fyIjH3wMTQG",
      "include_colab_link": true
    },
    "kernelspec": {
      "name": "python3",
      "display_name": "Python 3"
    }
  },
  "cells": [
    {
      "cell_type": "markdown",
      "metadata": {
        "id": "view-in-github",
        "colab_type": "text"
      },
      "source": [
        "<a href=\"https://colab.research.google.com/github/PatriciaLucas/AEDIII/blob/main/08_TeoriaDosGrafos%3ACaminhosMinimos/notebook_08_parte1.ipynb\" target=\"_parent\"><img src=\"https://colab.research.google.com/assets/colab-badge.svg\" alt=\"Open In Colab\"/></a>"
      ]
    },
    {
      "cell_type": "markdown",
      "metadata": {
        "id": "-nFpYrGk2v1z"
      },
      "source": [
        "```\r\n",
        "Instituto Federal do Norte de Minas Gerais - Campus Salinas\r\n",
        "Bacharelado em Sistemas de Informação\r\n",
        "Disciplina: AEDIII\r\n",
        "Professora: Patrícia Lucas\r\n",
        "```\r\n"
      ]
    },
    {
      "cell_type": "markdown",
      "metadata": {
        "id": "cEHMvuu9aa9z"
      },
      "source": [
        "#Caminhos mínimos\n",
        "\n",
        "Dado um **dígrafo ponderado**, o objetivo é encontrar o caminho mais curto de origem única. \n",
        "\n",
        "O peso $W$ de um caminho $c$ é o somatório de suas arestas: $w(c) = \\sum^{k}_{i=1} w(v_{i-1},v_i)$, onde $k$ é o número de vértices.\n",
        "\n",
        "Exemplo: O caminho mínimo $m$ da origem $v_1$ ao destino $v_5$ é $(v_1,v_3,v_4,v_5)$, com peso igual a $w(m) = 3$.\n",
        "\n",
        "<img src=\"https://github.com/PatriciaLucas/AEDIII/blob/main/Figuras/notebook08_01.png?raw=true\" width=\"250\"/>\n",
        "\n",
        "\n",
        "\n",
        "\n",
        "\n",
        "\n",
        "\n",
        "\n",
        "\n",
        "\n",
        "\n",
        "\n"
      ]
    },
    {
      "cell_type": "markdown",
      "metadata": {
        "id": "AdhafK_XfcAZ"
      },
      "source": [
        "#O Algoritmo de Dijkstra\n",
        "\n",
        "Resolve o problema em:\n",
        "\n",
        "*   Grafos ponderados.\n",
        "*   Arestas com pesos positivos.\n",
        "*   O grafo pode conter ciclos.\n",
        "\n",
        "\n",
        "###**Etapas do algoritmo usando um exemplo:**\n",
        "\n",
        "Dado o grafo $G$, queremos encontrar o caminho mínimo de $A$ para $F$. Vamos precisar de uma **Tabela de distâncias** e um **Array de vértices visitados**.\n",
        "\n",
        "**Passo 1:** Inserira todos os vértices do grafo na Tabela de distâncias. Inicialize todas as distâncias com valor $\\infty$, exceto o vértice inicial, que terá distância $= 0$.\n",
        "\n",
        "\n",
        "<img src=\"https://github.com/PatriciaLucas/AEDIII/blob/main/Figuras/notebook08_02.png?raw=true\" width=\"400\"/>\n",
        "\n",
        "\n",
        "**Passo 2:** Pegue o vértice com a menor distância na Tabela de distâncias e salve no Array de visitados. Nesse caso, $A$. Calcule a distância entre o vértice atual ($A$) e seus vizinhos. \n",
        "\n",
        "**OBS:** distância = distância atual + distância do caminho para chegar no vizinho.\n",
        "\n",
        "Se distância for menor que a registrada na Tabela de distâncias, atualize e\n",
        "salve o vértice atual na Tabela de distâncias.\n",
        "\n",
        "\n",
        "<img src=\"https://github.com/PatriciaLucas/AEDIII/blob/main/Figuras/notebook08_03.png?raw=true\" width=\"400\"/>\n",
        "\n",
        "\n",
        "**Repetir o passo 2 até que todos os vértices sejam visitados**\n",
        "\n",
        "**Passo 2:** Pegue o vértice com a menor distância na Tabela de distâncias e salve no Array de visitados. Nesse caso, $B$. Calcule a distância entre o vértice atual ($B$) e seus vizinhos. \n",
        "\n",
        "**OBS:** distância = distância atual + distância do caminho para chegar no vizinho.\n",
        "\n",
        "Se distância for menor que a registrada na Tabela de distâncias, atualize e\n",
        "salve o vértice atual na Tabela de distâncias.\n",
        "\n",
        "\n",
        "<img src=\"https://github.com/PatriciaLucas/AEDIII/blob/main/Figuras/notebook08_04.png?raw=true\" width=\"400\"/>\n",
        "\n",
        "\n",
        "**Passo 2:** Pegue o vértice com a menor distância na Tabela de distâncias e salve no Array de visitados. Nesse caso, $D$. Calcule a distância entre o vértice atual ($D$) e seus vizinhos. \n",
        "\n",
        "**OBS:** distância = distância atual + distância do caminho para chegar no vizinho.\n",
        "\n",
        "Se distância for menor que a registrada na Tabela de distâncias, atualize e\n",
        "salve o vértice atual na Tabela de distâncias.\n",
        "\n",
        "\n",
        "<img src=\"https://github.com/PatriciaLucas/AEDIII/blob/main/Figuras/notebook08_05.png?raw=true\" width=\"400\"/>\n",
        "\n",
        "\n",
        "**Passo 2:** Pegue o vértice com a menor distância na Tabela de distâncias e salve no Array de visitados. Nesse caso, $C$. Calcule a distância entre o vértice atual ($C$) e seus vizinhos. \n",
        "\n",
        "**OBS:** distância = distância atual + distância do caminho para chegar no vizinho.\n",
        "\n",
        "Se distância for menor que a registrada na Tabela de distâncias, atualize e\n",
        "salve o vértice atual na Tabela de distâncias.\n",
        "\n",
        "\n",
        "<img src=\"https://github.com/PatriciaLucas/AEDIII/blob/main/Figuras/notebook08_06.png?raw=true\" width=\"400\"/>\n",
        "\n",
        "\n",
        "**Passo 2:** Pegue o vértice com a menor distância na Tabela de distâncias e salve no Array de visitados. Nesse caso, $F$. Calcule a distância entre o vértice atual ($F$) e seus vizinhos. \n",
        "\n",
        "**OBS:** distância = distância atual + distância do caminho para chegar no vizinho.\n",
        "\n",
        "Se distância for menor que a registrada na Tabela de distâncias, atualize e\n",
        "salve o vértice atual na Tabela de distâncias.\n",
        "\n",
        "\n",
        "<img src=\"https://github.com/PatriciaLucas/AEDIII/blob/main/Figuras/notebook08_07.png?raw=true\" width=\"400\"/>\n",
        "\n",
        "\n",
        "**Passo 2:** Pegue o vértice com a menor distância na Tabela de distâncias e salve no Array de visitados. Nesse caso, $E$. Calcule a distância entre o vértice atual ($E$) e seus vizinhos. \n",
        "\n",
        "**OBS:** distância = distância atual + distância do caminho para chegar no vizinho.\n",
        "\n",
        "Se distância for menor que a registrada na Tabela de distâncias, atualize e\n",
        "salve o vértice atual na Tabela de distâncias.\n",
        "\n",
        "\n",
        "<img src=\"https://github.com/PatriciaLucas/AEDIII/blob/main/Figuras/notebook08_08.png?raw=true\" width=\"400\"/>\n",
        "\n",
        "\n",
        "**Passo 3:** Com a tabela de distância completa, temos a distância mínima e o caminhos mínimo de $A$ para $F$, bem como de $A$ para todos os outros vértices.\n",
        "\n",
        "A distância mínima de $A$ para $F$ é 10 passando pelo caminho $(A, D, C, F)$.\n",
        "\n",
        "\n",
        "<img src=\"https://github.com/PatriciaLucas/AEDIII/blob/main/Figuras/notebook08_09.png?raw=true\" width=\"500\"/>\n"
      ]
    },
    {
      "cell_type": "markdown",
      "metadata": {
        "id": "Kx_JS3pvDNtI"
      },
      "source": [
        "#Implementação do algoritmo de Dijkstra usando o pacote Networkx\n",
        "\n",
        "O pacote NetworkX fornece estruturas de dados para grafos (ou redes) juntamente com algoritmos e ferramentas de desenho.\n",
        "\n",
        "A documentação desse pacote e exemplos de uso podem ser acessados em: [https://networkx.org/documentation/stable/index.html](https://networkx.org/documentation/stable/index.html)\n",
        "\n",
        "**Passo a passo para usar o Networkx:**\n",
        "\n",
        "**1º** Importar o pacote:\n",
        "\n",
        "OBS: esse pacote não precisa ser instalado!\n",
        "\n"
      ]
    },
    {
      "cell_type": "code",
      "metadata": {
        "id": "7Lz4SXI9h6zO"
      },
      "source": [
        "import networkx as nx"
      ],
      "execution_count": null,
      "outputs": []
    },
    {
      "cell_type": "markdown",
      "metadata": {
        "id": "gjd2A60RsNwg"
      },
      "source": [
        "**2º** Criar um grafo G:\r\n",
        "\r\n",
        "<img src=\"https://github.com/PatriciaLucas/AEDIII/blob/main/Figuras/notebook07_05.png?raw=true\" width=\"600\"/>\r\n"
      ]
    },
    {
      "cell_type": "code",
      "metadata": {
        "id": "P83L90Zlkci0"
      },
      "source": [
        "G = nx.Graph()"
      ],
      "execution_count": null,
      "outputs": []
    },
    {
      "cell_type": "markdown",
      "metadata": {
        "id": "mLsYTzZ0seqR"
      },
      "source": [
        "**3º** Criar arestas (edges):\r\n"
      ]
    },
    {
      "cell_type": "code",
      "metadata": {
        "id": "N20BJ0kmkmgF"
      },
      "source": [
        "G.add_edge('Singapore', 'Tokyo', weight=500)\r\n",
        "G.add_edge('Singapore', 'Hong Kong', weight=300)\r\n",
        "G.add_edge('Tokyo', 'Hong Kong', weight=250)\r\n",
        "G.add_edge('Tokyo', 'Detroit', weight=450)\r\n",
        "G.add_edge('Tokyo', 'Washington DC', weight=300)\r\n",
        "G.add_edge('Hong Kong', 'San Francisco', weight=600)\r\n",
        "G.add_edge('Detroit', 'Austin', weight=50)\r\n",
        "G.add_edge('Austin', 'Washington DC', weight=292)\r\n",
        "G.add_edge('San Francisco', 'Washington DC', weight=337)\r\n",
        "G.add_edge('Washington DC','Seattle', weight=277)\r\n",
        "G.add_edge('San Francisco', 'Seattle', weight=218)\r\n",
        "G.add_edge('San Francisco', 'Austin', weight=297)"
      ],
      "execution_count": null,
      "outputs": []
    },
    {
      "cell_type": "markdown",
      "metadata": {
        "id": "1EkmXZgE0Kbz"
      },
      "source": [
        "**4º** Encontrar o caminho mínimo de São Francisco a Tokyo:"
      ]
    },
    {
      "cell_type": "code",
      "metadata": {
        "colab": {
          "base_uri": "https://localhost:8080/"
        },
        "id": "JruPlYA3oOIs",
        "outputId": "75cca3af-562a-4e07-d285-90eb0a1a3708"
      },
      "source": [
        "tree = nx.algorithms.dijkstra_path(G, 'San Francisco', 'Tokyo')\r\n",
        "tree"
      ],
      "execution_count": null,
      "outputs": [
        {
          "output_type": "execute_result",
          "data": {
            "text/plain": [
              "['San Francisco', 'Washington DC', 'Tokyo']"
            ]
          },
          "metadata": {
            "tags": []
          },
          "execution_count": 16
        }
      ]
    },
    {
      "cell_type": "markdown",
      "metadata": {
        "id": "RvYj5SkV7fGH"
      },
      "source": [
        "**5º** Encontrar a distância do caminho mínimo de São Francisco a Tokyo:"
      ]
    },
    {
      "cell_type": "code",
      "metadata": {
        "colab": {
          "base_uri": "https://localhost:8080/"
        },
        "id": "GkjjoEQc4T9K",
        "outputId": "4deea07a-9ea1-4511-d4fd-abc3112c6ee7"
      },
      "source": [
        "nx.algorithms.dijkstra_path_length(G, 'San Francisco', 'Tokyo')"
      ],
      "execution_count": null,
      "outputs": [
        {
          "output_type": "execute_result",
          "data": {
            "text/plain": [
              "637"
            ]
          },
          "metadata": {
            "tags": []
          },
          "execution_count": 17
        }
      ]
    }
  ]
}