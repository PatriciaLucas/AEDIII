{
  "nbformat": 4,
  "nbformat_minor": 0,
  "metadata": {
    "colab": {
      "name": "notebook_08_parte2.ipynb",
      "provenance": [],
      "collapsed_sections": [],
      "authorship_tag": "ABX9TyM1TGGXCNMd2ektjjj+BJcq",
      "include_colab_link": true
    },
    "kernelspec": {
      "name": "python3",
      "display_name": "Python 3"
    }
  },
  "cells": [
    {
      "cell_type": "markdown",
      "metadata": {
        "id": "view-in-github",
        "colab_type": "text"
      },
      "source": [
        "<a href=\"https://colab.research.google.com/github/PatriciaLucas/AEDIII/blob/main/08_TeoriaDosGrafos%3ACaminhosMinimos/notebook_08_parte2.ipynb\" target=\"_parent\"><img src=\"https://colab.research.google.com/assets/colab-badge.svg\" alt=\"Open In Colab\"/></a>"
      ]
    },
    {
      "cell_type": "markdown",
      "metadata": {
        "id": "-nFpYrGk2v1z"
      },
      "source": [
        "```\n",
        "Instituto Federal do Norte de Minas Gerais - Campus Salinas\n",
        "Bacharelado em Sistemas de Informação\n",
        "Disciplina: AEDIII\n",
        "Professora: Patrícia Lucas\n",
        "```\n"
      ]
    },
    {
      "cell_type": "markdown",
      "metadata": {
        "id": "cEHMvuu9aa9z"
      },
      "source": [
        "#Caminhos mínimos\n",
        "\n",
        "**Arestas negativas:**\n",
        "\n",
        "Arestas de peso negativo podem parecer inúteis, mas podem explicar muitos fenômenos do mundo real. Por exemplo: considere um grafo que simula o comportamento de uma molécula em uma reação química, ou seja, quais caminhos ela pode seguir durante a reação. Os pesos representam a energia absorvida ou liberada na transição. Dessa forma, se quisermos encontrar o caminho com menor ganho de energia na reação, podemos representar a energia liberada com pesos positivos e a energia liberada com pesos negativos.\n",
        "\n",
        "\n",
        "**Ciclos de peso negativo:**\n",
        "\n",
        "\n",
        "Arestas de peso negativo podem criar ciclos de peso negativo, ou seja, um ciclo que reduzirá a distância total do caminho ao voltar ao mesmo ponto. Exemplo: o ciclo $B \\Rightarrow C \\Rightarrow D \\Rightarrow B$ é negativo, pois a soma dos pesos de suas arestas é negativo.\n",
        "\n",
        "\n",
        "<img src=\"https://github.com/PatriciaLucas/AEDIII/blob/main/Figuras/notebook08p2_01.png?raw=true\" width=\"250\"/>\n",
        "\n",
        "\n",
        "\n",
        "\n",
        "\n",
        "\n",
        "\n",
        "\n",
        "\n",
        "\n",
        "\n"
      ]
    },
    {
      "cell_type": "markdown",
      "metadata": {
        "id": "AdhafK_XfcAZ"
      },
      "source": [
        "#O Algoritmo de Bellman Ford\n",
        "\n",
        "O algoritmo Bellman Ford nos ajuda a encontrar o caminho mais curto de um vértice para todos os outros vértices de um grafo ponderado.\n",
        "\n",
        "É semelhante ao algoritmo de Dijkstra, mas pode funcionar com grafo nos quais as arestas podem ter pesos negativos.\n",
        "\n",
        "\n",
        "###**Etapas do algoritmo usando um exemplo:**\n",
        "\n",
        "Dado o grafo $G$, queremos encontrar o caminho mínimo iniciando de $A$ para os demais vértices. Vamos precisar de uma **Tabela de distâncias** e uma **Lista de arestas**.\n",
        "\n",
        "\n",
        "\n",
        "**Passo 1:** Inserira todos os vértices do grafo na Tabela de distâncias. Inicialize todas as distâncias com valor $\\infty$, exceto o vértice inicial, que terá distância $= 0$.\n",
        "\n",
        "<tr>\n",
        "    <td> <img src=\"https://github.com/PatriciaLucas/AEDIII/blob/main/Figuras/notebook08p2_02.png?raw=true\" width=\"300\"/> </td>\n",
        "    <td> <img src=\"https://github.com/PatriciaLucas/AEDIII/blob/main/Figuras/notebook08p2_03.png?raw=true\" width=\"300\"/> </td>\n",
        "</tr>\n",
        "\n",
        "\n",
        "**Repetir o passo 2 $|V|-1$ vezes ou até que todas as distâncias parem de atualizar**\n",
        "\n",
        "**Passo 2 (1ª iteração):** Para cada aresta na 'Lista de arestas', faça a atualização da 'Tabela de distâncias'. \n",
        "\n",
        "**OBS:** distância = distância atual + distância do caminho para chegar no vizinho.\n",
        "\n",
        "Se distância for menor que a registrada na Tabela de distâncias, atualize e salve o vértice atual na Tabela de distâncias.\n",
        "\n",
        "Aresta $(A,B)$: atualiza a distância de $B$ para $6$, já que $6+0<\\infty$.\n",
        "\n",
        "Aresta $(A,C)$: atualiza a distância de $C$ para $5$, já que $5+0<\\infty$.\n",
        "\n",
        "Aresta $(A,D)$: atualiza a distância de $C$ para $5$, já que $5+0<\\infty$.\n",
        "\n",
        "Aresta $(B,E)$: atualiza a distância de $E$ para $5$, já que $6+(-1)<\\infty$.\n",
        "\n",
        "<tr>\n",
        "    <td> <img src=\"https://github.com/PatriciaLucas/AEDIII/blob/main/Figuras/notebook08p2_02.png?raw=true\" width=\"300\"/> </td>\n",
        "    <td> <img src=\"https://github.com/PatriciaLucas/AEDIII/blob/main/Figuras/notebook08p2_04.png?raw=true\" width=\"300\"/> </td>\n",
        "</tr>\n",
        "\n",
        "\n",
        "\n",
        "Aresta $(C,B)$: atualiza a distância de $B$ para $3$, já que $5+(-2)<6$.\n",
        "\n",
        "Aresta $(D,C)$: atualiza a distância de $C$ para $3$, já que $5+(-2)<5$.\n",
        "\n",
        "Aresta $(D,F)$: atualiza a distância de $F$ para $4$, já que $5+(-1)<\\infty$.\n",
        "\n",
        "<tr>\n",
        "    <td> <img src=\"https://github.com/PatriciaLucas/AEDIII/blob/main/Figuras/notebook08p2_02.png?raw=true\" width=\"300\"/> </td>\n",
        "    <td> <img src=\"https://github.com/PatriciaLucas/AEDIII/blob/main/Figuras/notebook08p2_05.png?raw=true\" width=\"300\"/> </td>\n",
        "</tr>\n",
        "\n",
        "\n",
        "Aresta $(C,E)$: atualiza a distância de $E$ para $4$, já que $3+1<5$.\n",
        "\n",
        "Aresta $(F,G)$: atualiza a distância de $G$ para $7$, já que $4+3<\\infty$.\n",
        "\n",
        "Aresta $(E,G)$: não atualiza.\n",
        "\n",
        "<tr>\n",
        "    <td> <img src=\"https://github.com/PatriciaLucas/AEDIII/blob/main/Figuras/notebook08p2_02.png?raw=true\" width=\"300\"/> </td>\n",
        "    <td> <img src=\"https://github.com/PatriciaLucas/AEDIII/blob/main/Figuras/notebook08p2_06.png?raw=true\" width=\"300\"/> </td>\n",
        "</tr>\n",
        "\n",
        "\n",
        "\n",
        "**Passo 2 (2ª iteração):** Para cada aresta na 'Lista de arestas', faça a atualização da 'Tabela de distâncias'. \n",
        "\n",
        "**OBS:** distância = distância atual + distância do caminho para chegar no vizinho.\n",
        "\n",
        "Se distância for menor que a registrada na Tabela de distâncias, atualize e salve o vértice atual na Tabela de distâncias.\n",
        "\n",
        "Aresta $(A,B)$: não atualiza.\n",
        "\n",
        "Aresta $(A,C)$: não atualiza.\n",
        "\n",
        "Aresta $(A,D)$: não atualiza.\n",
        "\n",
        "Aresta $(B,E)$: atualiza a distância de $E$ para $2$, já que $3+(-1)<4$.\n",
        "\n",
        "Aresta $(C,B)$: atualiza a distância de $B$ para $1$, já que $3+(-2)<3$.\n",
        "\n",
        "Aresta $(D,C)$: não atualiza.\n",
        "\n",
        "Aresta $(D,F)$: não atualiza.\n",
        "\n",
        "Aresta $(C,E)$: atualiza a distância de $E$ para $2$, já que $3+(-1)<4$.\n",
        "\n",
        "Aresta $(F,G)$: não atualiza.\n",
        "\n",
        "Aresta $(E,G)$: atualiza a distância de $G$ para $5$, já que $2+3<7$.\n",
        "\n",
        "<tr>\n",
        "    <td> <img src=\"https://github.com/PatriciaLucas/AEDIII/blob/main/Figuras/notebook08p2_02.png?raw=true\" width=\"300\"/> </td>\n",
        "    <td> <img src=\"https://github.com/PatriciaLucas/AEDIII/blob/main/Figuras/notebook08p2_07.png?raw=true\" width=\"300\"/> </td>\n",
        "</tr>\n",
        "\n",
        "\n",
        "\n",
        "\n",
        "**Passo 2 (3ª iteração):** Para cada aresta na 'Lista de arestas', faça a atualização da 'Tabela de distâncias'. \n",
        "\n",
        "**OBS:** distância = distância atual + distância do caminho para chegar no vizinho.\n",
        "\n",
        "Se distância for menor que a registrada na Tabela de distâncias, atualize e salve o vértice atual na Tabela de distâncias.\n",
        "\n",
        "Aresta $(A,B)$: não atualiza.\n",
        "\n",
        "Aresta $(A,C)$: não atualiza.\n",
        "\n",
        "Aresta $(A,D)$: não atualiza.\n",
        "\n",
        "Aresta $(B,E)$: atualiza a distância de $E$ para $0$, já que $1+(-1)<2$.\n",
        "\n",
        "Aresta $(C,B)$: não atualiza.\n",
        "\n",
        "Aresta $(D,C)$: não atualiza.\n",
        "\n",
        "Aresta $(D,F)$: não atualiza.\n",
        "\n",
        "Aresta $(C,E)$: não atualiza.\n",
        "\n",
        "Aresta $(F,G)$: não atualiza.\n",
        "\n",
        "Aresta $(E,G)$: atualiza a distância de $G$ para $3$, já que $0+3<5$.\n",
        "\n",
        "<tr>\n",
        "    <td> <img src=\"https://github.com/PatriciaLucas/AEDIII/blob/main/Figuras/notebook08p2_02.png?raw=true\" width=\"300\"/> </td>\n",
        "    <td> <img style=\"float: right;\" src=\"https://github.com/PatriciaLucas/AEDIII/blob/main/Figuras/notebook08p2_08.png?raw=true\" width=\"300\"/> </td>\n",
        "</tr>\n",
        "\n",
        "\n",
        "\n",
        "\n",
        "**Passo 2 (4ª iteração):** As distâncias não se atualizam, então podemos ir para o Passo 3.\n",
        "\n",
        "\n",
        "**Passo 3:** Com a tabela de distância completa, temos a distância mínima e o caminhos mínimo de $A$ para $F$, bem como de $A$ para todos os outros vértices.\n",
        "\n",
        "A distância mínima de $A$ para $B$ é 1 passando pelo caminho $(A, D, C, B)$.  <img src=\"https://github.com/PatriciaLucas/AEDIII/blob/main/Figuras/notebook08p2_09.png?raw=true\" width=\"500\"/> \n",
        "\n"
      ]
    },
    {
      "cell_type": "markdown",
      "metadata": {
        "id": "Kx_JS3pvDNtI"
      },
      "source": [
        "#Implementação do algoritmo Bellman Ford usando o pacote Networkx\n",
        "\n",
        "O pacote NetworkX fornece estruturas de dados para grafos (ou redes) juntamente com algoritmos e ferramentas de desenho.\n",
        "\n",
        "A documentação desse pacote e exemplos de uso podem ser acessados em: [https://networkx.org/documentation/stable/index.html](https://networkx.org/documentation/stable/index.html)\n",
        "\n",
        "**Passo a passo para usar o Networkx:**\n",
        "\n",
        "**1º** Importar o pacote:\n",
        "\n",
        "OBS: esse pacote não precisa ser instalado!\n",
        "\n"
      ]
    },
    {
      "cell_type": "code",
      "metadata": {
        "id": "7Lz4SXI9h6zO"
      },
      "source": [
        "import networkx as nx"
      ],
      "execution_count": 1,
      "outputs": []
    },
    {
      "cell_type": "markdown",
      "metadata": {
        "id": "gjd2A60RsNwg"
      },
      "source": [
        "**2º** Criar um grafo G:\n",
        "\n",
        "<img src=\"https://github.com/PatriciaLucas/AEDIII/blob/main/Figuras/notebook08p2_02.png?raw=true\" width=\"300\"/>\n"
      ]
    },
    {
      "cell_type": "code",
      "metadata": {
        "id": "P83L90Zlkci0"
      },
      "source": [
        "G = nx.DiGraph()"
      ],
      "execution_count": 33,
      "outputs": []
    },
    {
      "cell_type": "markdown",
      "metadata": {
        "id": "mLsYTzZ0seqR"
      },
      "source": [
        "**3º** Criar arestas (edges):\n"
      ]
    },
    {
      "cell_type": "code",
      "metadata": {
        "id": "N20BJ0kmkmgF"
      },
      "source": [
        "G.add_edge('A', 'B', weight=6)\n",
        "G.add_edge('A', 'C', weight=5)\n",
        "G.add_edge('A', 'D', weight=5)\n",
        "G.add_edge('B', 'E', weight=-1)\n",
        "G.add_edge('C', 'B', weight=-2)\n",
        "G.add_edge('C', 'E', weight=1)\n",
        "G.add_edge('D', 'C', weight=-2)\n",
        "G.add_edge('D', 'F', weight=-1)\n",
        "G.add_edge('E', 'G', weight=3)\n",
        "G.add_edge('F','G', weight=3)"
      ],
      "execution_count": 34,
      "outputs": []
    },
    {
      "cell_type": "markdown",
      "metadata": {
        "id": "1EkmXZgE0Kbz"
      },
      "source": [
        "**4º** Encontrar o caminho mínimo de São Francisco a Tokyo:"
      ]
    },
    {
      "cell_type": "code",
      "metadata": {
        "colab": {
          "base_uri": "https://localhost:8080/"
        },
        "id": "JruPlYA3oOIs",
        "outputId": "f1b80e3f-9e51-426f-961f-bb412a10298f"
      },
      "source": [
        "nx.algorithms.bellman_ford_path(G,'A','B')"
      ],
      "execution_count": 37,
      "outputs": [
        {
          "output_type": "execute_result",
          "data": {
            "text/plain": [
              "['A', 'D', 'C', 'B']"
            ]
          },
          "metadata": {
            "tags": []
          },
          "execution_count": 37
        }
      ]
    },
    {
      "cell_type": "markdown",
      "metadata": {
        "id": "RvYj5SkV7fGH"
      },
      "source": [
        "**5º** Encontrar a distância do caminho mínimo de São Francisco a Tokyo:"
      ]
    },
    {
      "cell_type": "code",
      "metadata": {
        "colab": {
          "base_uri": "https://localhost:8080/"
        },
        "id": "GkjjoEQc4T9K",
        "outputId": "806db2ab-9df3-49e0-c40a-991159fcf840"
      },
      "source": [
        "nx.algorithms.bellman_ford_path_length(G, 'A', 'B')"
      ],
      "execution_count": 38,
      "outputs": [
        {
          "output_type": "execute_result",
          "data": {
            "text/plain": [
              "1"
            ]
          },
          "metadata": {
            "tags": []
          },
          "execution_count": 38
        }
      ]
    },
    {
      "cell_type": "markdown",
      "metadata": {
        "id": "tG-XmSwIWmr9"
      },
      "source": [
        "#Por que o ciclo negativo é um problema?\n",
        "\n",
        "Vamos implementar o grafo $G$ abaixo:\n",
        "\n",
        "<img src=\"https://github.com/PatriciaLucas/AEDIII/blob/main/Figuras/notebook08p2_01.png?raw=true\" width=\"250\"/>"
      ]
    },
    {
      "cell_type": "code",
      "metadata": {
        "id": "3kiyoSSGW5q6"
      },
      "source": [
        "G = nx.DiGraph()\n",
        "G.add_edge('A', 'B', weight=2)\n",
        "G.add_edge('D', 'B', weight=1)\n",
        "G.add_edge('B', 'D', weight=1)\n",
        "G.add_edge('B', 'C', weight=2)\n",
        "G.add_edge('D', 'E', weight=3)\n",
        "G.add_edge('C', 'D', weight=-4)"
      ],
      "execution_count": 31,
      "outputs": []
    },
    {
      "cell_type": "markdown",
      "metadata": {
        "id": "kx8cPa1WXvmN"
      },
      "source": [
        "Percebam o erro retornado: \"Negative cost cycle detected.\""
      ]
    },
    {
      "cell_type": "code",
      "metadata": {
        "colab": {
          "base_uri": "https://localhost:8080/",
          "height": 316
        },
        "id": "afmm9zM-XlTb",
        "outputId": "bea69cec-2ab5-4c99-e3ea-cac632743fd2"
      },
      "source": [
        "nx.algorithms.bellman_ford_path(G,'A', 'E')"
      ],
      "execution_count": 32,
      "outputs": [
        {
          "output_type": "error",
          "ename": "NetworkXUnbounded",
          "evalue": "ignored",
          "traceback": [
            "\u001b[0;31m---------------------------------------------------------------------------\u001b[0m",
            "\u001b[0;31mNetworkXUnbounded\u001b[0m                         Traceback (most recent call last)",
            "\u001b[0;32m<ipython-input-32-8e021c9d258c>\u001b[0m in \u001b[0;36m<module>\u001b[0;34m()\u001b[0m\n\u001b[0;32m----> 1\u001b[0;31m \u001b[0mnx\u001b[0m\u001b[0;34m.\u001b[0m\u001b[0malgorithms\u001b[0m\u001b[0;34m.\u001b[0m\u001b[0mbellman_ford_path\u001b[0m\u001b[0;34m(\u001b[0m\u001b[0mG\u001b[0m\u001b[0;34m,\u001b[0m\u001b[0;34m'A'\u001b[0m\u001b[0;34m,\u001b[0m \u001b[0;34m'E'\u001b[0m\u001b[0;34m)\u001b[0m\u001b[0;34m\u001b[0m\u001b[0;34m\u001b[0m\u001b[0m\n\u001b[0m",
            "\u001b[0;32m/usr/local/lib/python3.7/dist-packages/networkx/algorithms/shortest_paths/weighted.py\u001b[0m in \u001b[0;36mbellman_ford_path\u001b[0;34m(G, source, target, weight)\u001b[0m\n\u001b[1;32m   1383\u001b[0m     \u001b[0mdijkstra_path\u001b[0m\u001b[0;34m(\u001b[0m\u001b[0;34m)\u001b[0m\u001b[0;34m,\u001b[0m \u001b[0mbellman_ford_path_length\u001b[0m\u001b[0;34m(\u001b[0m\u001b[0;34m)\u001b[0m\u001b[0;34m\u001b[0m\u001b[0;34m\u001b[0m\u001b[0m\n\u001b[1;32m   1384\u001b[0m     \"\"\"\n\u001b[0;32m-> 1385\u001b[0;31m     \u001b[0mlength\u001b[0m\u001b[0;34m,\u001b[0m \u001b[0mpath\u001b[0m \u001b[0;34m=\u001b[0m \u001b[0msingle_source_bellman_ford\u001b[0m\u001b[0;34m(\u001b[0m\u001b[0mG\u001b[0m\u001b[0;34m,\u001b[0m \u001b[0msource\u001b[0m\u001b[0;34m,\u001b[0m \u001b[0mtarget\u001b[0m\u001b[0;34m=\u001b[0m\u001b[0mtarget\u001b[0m\u001b[0;34m,\u001b[0m \u001b[0mweight\u001b[0m\u001b[0;34m=\u001b[0m\u001b[0mweight\u001b[0m\u001b[0;34m)\u001b[0m\u001b[0;34m\u001b[0m\u001b[0;34m\u001b[0m\u001b[0m\n\u001b[0m\u001b[1;32m   1386\u001b[0m     \u001b[0;32mreturn\u001b[0m \u001b[0mpath\u001b[0m\u001b[0;34m\u001b[0m\u001b[0;34m\u001b[0m\u001b[0m\n\u001b[1;32m   1387\u001b[0m \u001b[0;34m\u001b[0m\u001b[0m\n",
            "\u001b[0;32m/usr/local/lib/python3.7/dist-packages/networkx/algorithms/shortest_paths/weighted.py\u001b[0m in \u001b[0;36msingle_source_bellman_ford\u001b[0;34m(G, source, target, weight)\u001b[0m\n\u001b[1;32m   1610\u001b[0m \u001b[0;34m\u001b[0m\u001b[0m\n\u001b[1;32m   1611\u001b[0m     \u001b[0mpaths\u001b[0m \u001b[0;34m=\u001b[0m \u001b[0;34m{\u001b[0m\u001b[0msource\u001b[0m\u001b[0;34m:\u001b[0m \u001b[0;34m[\u001b[0m\u001b[0msource\u001b[0m\u001b[0;34m]\u001b[0m\u001b[0;34m}\u001b[0m  \u001b[0;31m# dictionary of paths\u001b[0m\u001b[0;34m\u001b[0m\u001b[0;34m\u001b[0m\u001b[0m\n\u001b[0;32m-> 1612\u001b[0;31m     \u001b[0mdist\u001b[0m \u001b[0;34m=\u001b[0m \u001b[0m_bellman_ford\u001b[0m\u001b[0;34m(\u001b[0m\u001b[0mG\u001b[0m\u001b[0;34m,\u001b[0m \u001b[0;34m[\u001b[0m\u001b[0msource\u001b[0m\u001b[0;34m]\u001b[0m\u001b[0;34m,\u001b[0m \u001b[0mweight\u001b[0m\u001b[0;34m,\u001b[0m \u001b[0mpaths\u001b[0m\u001b[0;34m=\u001b[0m\u001b[0mpaths\u001b[0m\u001b[0;34m,\u001b[0m \u001b[0mtarget\u001b[0m\u001b[0;34m=\u001b[0m\u001b[0mtarget\u001b[0m\u001b[0;34m)\u001b[0m\u001b[0;34m\u001b[0m\u001b[0;34m\u001b[0m\u001b[0m\n\u001b[0m\u001b[1;32m   1613\u001b[0m     \u001b[0;32mif\u001b[0m \u001b[0mtarget\u001b[0m \u001b[0;32mis\u001b[0m \u001b[0;32mNone\u001b[0m\u001b[0;34m:\u001b[0m\u001b[0;34m\u001b[0m\u001b[0;34m\u001b[0m\u001b[0m\n\u001b[1;32m   1614\u001b[0m         \u001b[0;32mreturn\u001b[0m \u001b[0;34m(\u001b[0m\u001b[0mdist\u001b[0m\u001b[0;34m,\u001b[0m \u001b[0mpaths\u001b[0m\u001b[0;34m)\u001b[0m\u001b[0;34m\u001b[0m\u001b[0;34m\u001b[0m\u001b[0m\n",
            "\u001b[0;32m/usr/local/lib/python3.7/dist-packages/networkx/algorithms/shortest_paths/weighted.py\u001b[0m in \u001b[0;36m_bellman_ford\u001b[0;34m(G, source, weight, pred, paths, dist, target, heuristic)\u001b[0m\n\u001b[1;32m   1305\u001b[0m                     \u001b[0;32mif\u001b[0m \u001b[0mheuristic\u001b[0m\u001b[0;34m:\u001b[0m\u001b[0;34m\u001b[0m\u001b[0;34m\u001b[0m\u001b[0m\n\u001b[1;32m   1306\u001b[0m                         \u001b[0;32mif\u001b[0m \u001b[0mv\u001b[0m \u001b[0;32min\u001b[0m \u001b[0mrecent_update\u001b[0m\u001b[0;34m[\u001b[0m\u001b[0mu\u001b[0m\u001b[0;34m]\u001b[0m\u001b[0;34m:\u001b[0m\u001b[0;34m\u001b[0m\u001b[0;34m\u001b[0m\u001b[0m\n\u001b[0;32m-> 1307\u001b[0;31m                             \u001b[0;32mraise\u001b[0m \u001b[0mnx\u001b[0m\u001b[0;34m.\u001b[0m\u001b[0mNetworkXUnbounded\u001b[0m\u001b[0;34m(\u001b[0m\u001b[0;34m\"Negative cost cycle detected.\"\u001b[0m\u001b[0;34m)\u001b[0m\u001b[0;34m\u001b[0m\u001b[0;34m\u001b[0m\u001b[0m\n\u001b[0m\u001b[1;32m   1308\u001b[0m                         \u001b[0;31m# Transfer the recent update info from u to v if the\u001b[0m\u001b[0;34m\u001b[0m\u001b[0;34m\u001b[0m\u001b[0;34m\u001b[0m\u001b[0m\n\u001b[1;32m   1309\u001b[0m                         \u001b[0;31m# same source node is the head of the update path.\u001b[0m\u001b[0;34m\u001b[0m\u001b[0;34m\u001b[0m\u001b[0;34m\u001b[0m\u001b[0m\n",
            "\u001b[0;31mNetworkXUnbounded\u001b[0m: Negative cost cycle detected."
          ]
        }
      ]
    }
  ]
}